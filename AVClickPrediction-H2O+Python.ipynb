{
 "cells": [
  {
   "cell_type": "code",
   "execution_count": null,
   "metadata": {},
   "outputs": [],
   "source": [
    "#!sudo pip install requests\n",
    "#!sudo pip install tabulate\n",
    "#!sudo pip install scikit-learn\n",
    "#!sudo pip install colorama\n",
    "#!sudo pip install future"
   ]
  },
  {
   "cell_type": "code",
   "execution_count": null,
   "metadata": {},
   "outputs": [],
   "source": [
    "# The following command removes the H2O module for Python.\n",
    "#!sudo pip uninstall -y h2o\n",
    "\n",
    "# Next, use pip to install this version of the H2O Python module.\n",
    "#!sudo pip install http://h2o-release.s3.amazonaws.com/h2o/rel-weierstrass/2/Python/h2o-3.14.0.2-py2.py3-none-any.whl"
   ]
  },
  {
   "cell_type": "code",
   "execution_count": null,
   "metadata": {},
   "outputs": [],
   "source": [
    "#!sudo pip install --upgrade requests"
   ]
  },
  {
   "cell_type": "code",
   "execution_count": 1,
   "metadata": {},
   "outputs": [],
   "source": [
    "import h2o\n",
    "import time\n",
    "from h2o.estimators.deeplearning import H2OAutoEncoderEstimator, H2ODeepLearningEstimator\n",
    "from h2o.estimators.gbm import H2OGradientBoostingEstimator\n",
    "from h2o.estimators.glm import H2OGeneralizedLinearEstimator\n",
    "from h2o.estimators.random_forest import H2ORandomForestEstimator"
   ]
  },
  {
   "cell_type": "code",
   "execution_count": null,
   "metadata": {},
   "outputs": [],
   "source": [
    "#!sudo apt-get update"
   ]
  },
  {
   "cell_type": "code",
   "execution_count": null,
   "metadata": {},
   "outputs": [],
   "source": [
    "#!sudo apt-get install --assume-yes default-jre"
   ]
  },
  {
   "cell_type": "code",
   "execution_count": null,
   "metadata": {},
   "outputs": [],
   "source": [
    "!java -version"
   ]
  },
  {
   "cell_type": "code",
   "execution_count": 2,
   "metadata": {
    "scrolled": true
   },
   "outputs": [
    {
     "name": "stdout",
     "output_type": "stream",
     "text": [
      "Checking whether there is an H2O instance running at http://localhost:54321..... not found.\n",
      "Attempting to start a local H2O server...\n",
      "  Java Version: openjdk version \"1.8.0_131\"; OpenJDK Runtime Environment (build 1.8.0_131-8u131-b11-2ubuntu1.16.04.3-b11); OpenJDK 64-Bit Server VM (build 25.131-b11, mixed mode)\n",
      "  Starting server from /usr/local/lib/python3.5/dist-packages/h2o/backend/bin/h2o.jar\n",
      "  Ice root: /tmp/tmpmbc_w_g2\n",
      "  JVM stdout: /tmp/tmpmbc_w_g2/h2o_jeevananne_started_from_python.out\n",
      "  JVM stderr: /tmp/tmpmbc_w_g2/h2o_jeevananne_started_from_python.err\n",
      "  Server is running at http://127.0.0.1:54321\n",
      "Connecting to H2O server at http://127.0.0.1:54321... successful.\n"
     ]
    },
    {
     "data": {
      "text/html": [
       "<div style=\"overflow:auto\"><table style=\"width:50%\"><tr><td>H2O cluster uptime:</td>\n",
       "<td>02 secs</td></tr>\n",
       "<tr><td>H2O cluster version:</td>\n",
       "<td>3.14.0.2</td></tr>\n",
       "<tr><td>H2O cluster version age:</td>\n",
       "<td>1 month </td></tr>\n",
       "<tr><td>H2O cluster name:</td>\n",
       "<td>H2O_from_python_jeevananne_opgcpg</td></tr>\n",
       "<tr><td>H2O cluster total nodes:</td>\n",
       "<td>1</td></tr>\n",
       "<tr><td>H2O cluster free memory:</td>\n",
       "<td>47.92 Gb</td></tr>\n",
       "<tr><td>H2O cluster total cores:</td>\n",
       "<td>22</td></tr>\n",
       "<tr><td>H2O cluster allowed cores:</td>\n",
       "<td>22</td></tr>\n",
       "<tr><td>H2O cluster status:</td>\n",
       "<td>accepting new members, healthy</td></tr>\n",
       "<tr><td>H2O connection url:</td>\n",
       "<td>http://127.0.0.1:54321</td></tr>\n",
       "<tr><td>H2O connection proxy:</td>\n",
       "<td>None</td></tr>\n",
       "<tr><td>H2O internal security:</td>\n",
       "<td>False</td></tr>\n",
       "<tr><td>H2O API Extensions:</td>\n",
       "<td>XGBoost, Algos, AutoML, Core V3, Core V4</td></tr>\n",
       "<tr><td>Python version:</td>\n",
       "<td>3.5.2 final</td></tr></table></div>"
      ],
      "text/plain": [
       "--------------------------  ----------------------------------------\n",
       "H2O cluster uptime:         02 secs\n",
       "H2O cluster version:        3.14.0.2\n",
       "H2O cluster version age:    1 month\n",
       "H2O cluster name:           H2O_from_python_jeevananne_opgcpg\n",
       "H2O cluster total nodes:    1\n",
       "H2O cluster free memory:    47.92 Gb\n",
       "H2O cluster total cores:    22\n",
       "H2O cluster allowed cores:  22\n",
       "H2O cluster status:         accepting new members, healthy\n",
       "H2O connection url:         http://127.0.0.1:54321\n",
       "H2O connection proxy:\n",
       "H2O internal security:      False\n",
       "H2O API Extensions:         XGBoost, Algos, AutoML, Core V3, Core V4\n",
       "Python version:             3.5.2 final\n",
       "--------------------------  ----------------------------------------"
      ]
     },
     "metadata": {},
     "output_type": "display_data"
    }
   ],
   "source": [
    "# Start H2O on your local machine\n",
    "h2o.init(nthreads=-1,min_mem_size = \"50g\")"
   ]
  },
  {
   "cell_type": "code",
   "execution_count": 3,
   "metadata": {},
   "outputs": [
    {
     "name": "stdout",
     "output_type": "stream",
     "text": [
      "Import and Parse training data\n",
      "Parse progress: |█████████████████████████████████████████████████████████| 100%\n"
     ]
    }
   ],
   "source": [
    "print(\"Import and Parse training data\")\n",
    "train = h2o.import_file(path='train.csv',col_types=[\"int\"] + ['enum']+['string']+['enum']+['time']+['enum']*4+[\"string\"]+['factor']+['string']+['numeric']+['enum']+['string']+['enum']+['factor'])"
   ]
  },
  {
   "cell_type": "code",
   "execution_count": 63,
   "metadata": {},
   "outputs": [
    {
     "name": "stdout",
     "output_type": "stream",
     "text": [
      "Import and Parse testing data\n",
      "Parse progress: |█████████████████████████████████████████████████████████| 100%\n"
     ]
    }
   ],
   "source": [
    "print(\"Import and Parse testing data\")\n",
    "test = h2o.import_file(path='test.csv',col_types=['int']+['enum']+['string']+['enum']+['string']+['enum']*4+[\"string\"]+['enum']+['string']+['enum']+['factor'])"
   ]
  },
  {
   "cell_type": "code",
   "execution_count": 33,
   "metadata": {},
   "outputs": [
    {
     "data": {
      "text/plain": [
       "['ID',\n",
       " 'Country',\n",
       " 'Carrier',\n",
       " 'TrafficType',\n",
       " 'ClickDate',\n",
       " 'Device',\n",
       " 'Browser',\n",
       " 'OS',\n",
       " 'UserIp',\n",
       " 'ConversionPayOut',\n",
       " 'publisherId',\n",
       " 'advertiserCampaignId',\n",
       " 'Fraud',\n",
       " 'CountryMissing']"
      ]
     },
     "execution_count": 33,
     "metadata": {},
     "output_type": "execute_result"
    }
   ],
   "source": [
    "train.names"
   ]
  },
  {
   "cell_type": "code",
   "execution_count": 19,
   "metadata": {},
   "outputs": [],
   "source": [
    "train = train.drop(['subPublisherId','ConversionDate','RefererUrl','ConversionStatus'])"
   ]
  },
  {
   "cell_type": "code",
   "execution_count": 68,
   "metadata": {},
   "outputs": [],
   "source": [
    "test = test.drop(['subPublisherId','RefererUrl'])"
   ]
  },
  {
   "cell_type": "code",
   "execution_count": 39,
   "metadata": {},
   "outputs": [],
   "source": [
    "#training feature engineering\n",
    "train['CountryMissing'] = (train[\"Country\"].isna()).ifelse(0, 1)\n",
    "train['CountryMissing'] = (train[\"Country\"]=='**').ifelse(0, 1)\n",
    "\n",
    "train['TrafficTypeMissing'] = (train[\"TrafficType\"].isna()).ifelse(0, 1)\n",
    "\n",
    "train['DeviceMissing'] = (train[\"Device\"].isna()).ifelse(0, 1)\n",
    "train['BrowserMissing'] = (train[\"Browser\"].isna()).ifelse(0, 1)\n",
    "train['OSMissing'] = (train[\"OS\"].isna()).ifelse(0, 1)"
   ]
  },
  {
   "cell_type": "code",
   "execution_count": 64,
   "metadata": {},
   "outputs": [],
   "source": [
    "#testing feature engineering\n",
    "test['CountryMissing'] = (test[\"Country\"].isna()).ifelse(0, 1)\n",
    "test['CountryMissing'] = (test[\"Country\"]=='**').ifelse(0, 1)\n",
    "\n",
    "test['TrafficTypeMissing'] = (test[\"TrafficType\"].isna()).ifelse(0, 1)\n",
    "\n",
    "test['DeviceMissing'] = (test[\"Device\"].isna()).ifelse(0, 1)\n",
    "test['BrowserMissing'] = (test[\"Browser\"].isna()).ifelse(0, 1)\n",
    "test['OSMissing'] = (test[\"OS\"].isna()).ifelse(0, 1)"
   ]
  },
  {
   "cell_type": "code",
   "execution_count": 42,
   "metadata": {},
   "outputs": [
    {
     "data": {
      "text/html": [
       "<table>\n",
       "<thead>\n",
       "<tr><th style=\"text-align: right;\">   ID</th><th>Country  </th><th style=\"text-align: right;\">  Carrier</th><th>TrafficType  </th><th>ClickDate          </th><th>Device  </th><th>Browser       </th><th>OS     </th><th>UserIp         </th><th style=\"text-align: right;\">  ConversionPayOut</th><th style=\"text-align: right;\">  publisherId</th><th style=\"text-align: right;\">  advertiserCampaignId</th><th style=\"text-align: right;\">  Fraud</th><th style=\"text-align: right;\">  CountryMissing</th><th style=\"text-align: right;\">  TrafficTypeMissing</th><th style=\"text-align: right;\">  DeviceMissing</th><th style=\"text-align: right;\">  BrowserMissing</th><th style=\"text-align: right;\">  OSMissing</th></tr>\n",
       "</thead>\n",
       "<tbody>\n",
       "<tr><td style=\"text-align: right;\">  568</td><td>**       </td><td style=\"text-align: right;\">       -1</td><td>A            </td><td>2017-08-21 00:00:07</td><td>Generic </td><td>android_webkit</td><td>Android</td><td>100.118.220.203</td><td style=\"text-align: right;\">                 0</td><td style=\"text-align: right;\">           35</td><td style=\"text-align: right;\">                 15752</td><td style=\"text-align: right;\">      0</td><td style=\"text-align: right;\">               0</td><td style=\"text-align: right;\">                   1</td><td style=\"text-align: right;\">              1</td><td style=\"text-align: right;\">               1</td><td style=\"text-align: right;\">          1</td></tr>\n",
       "<tr><td style=\"text-align: right;\"> 6105</td><td>**       </td><td style=\"text-align: right;\">       -1</td><td>M            </td><td>2017-08-21 00:01:08</td><td>Generic </td><td>android_webkit</td><td>Android</td><td>100.97.28.136  </td><td style=\"text-align: right;\">                 0</td><td style=\"text-align: right;\">          437</td><td style=\"text-align: right;\">                  3312</td><td style=\"text-align: right;\">      0</td><td style=\"text-align: right;\">               0</td><td style=\"text-align: right;\">                   1</td><td style=\"text-align: right;\">              1</td><td style=\"text-align: right;\">               1</td><td style=\"text-align: right;\">          1</td></tr>\n",
       "<tr><td style=\"text-align: right;\"> 6874</td><td>**       </td><td style=\"text-align: right;\">       -1</td><td>A            </td><td>2017-08-21 00:01:16</td><td>Generic </td><td>android_webkit</td><td>Android</td><td>100.118.210.62 </td><td style=\"text-align: right;\">                 0</td><td style=\"text-align: right;\">          209</td><td style=\"text-align: right;\">                 12230</td><td style=\"text-align: right;\">      0</td><td style=\"text-align: right;\">               0</td><td style=\"text-align: right;\">                   1</td><td style=\"text-align: right;\">              1</td><td style=\"text-align: right;\">               1</td><td style=\"text-align: right;\">          1</td></tr>\n",
       "<tr><td style=\"text-align: right;\"> 7325</td><td>**       </td><td style=\"text-align: right;\">       -1</td><td>A            </td><td>2017-08-21 00:01:22</td><td>Generic </td><td>android_webkit</td><td>Android</td><td>100.96.25.136  </td><td style=\"text-align: right;\">                 0</td><td style=\"text-align: right;\">         1044</td><td style=\"text-align: right;\">                 15751</td><td style=\"text-align: right;\">      0</td><td style=\"text-align: right;\">               0</td><td style=\"text-align: right;\">                   1</td><td style=\"text-align: right;\">              1</td><td style=\"text-align: right;\">               1</td><td style=\"text-align: right;\">          1</td></tr>\n",
       "<tr><td style=\"text-align: right;\"> 8359</td><td>**       </td><td style=\"text-align: right;\">       -1</td><td>A            </td><td>2017-08-21 00:01:34</td><td>ZTE     </td><td>chrome        </td><td>Android</td><td>100.116.158.103</td><td style=\"text-align: right;\">                 0</td><td style=\"text-align: right;\">          540</td><td style=\"text-align: right;\">                  4128</td><td style=\"text-align: right;\">      0</td><td style=\"text-align: right;\">               0</td><td style=\"text-align: right;\">                   1</td><td style=\"text-align: right;\">              1</td><td style=\"text-align: right;\">               1</td><td style=\"text-align: right;\">          1</td></tr>\n",
       "<tr><td style=\"text-align: right;\"> 9617</td><td>**       </td><td style=\"text-align: right;\">       -1</td><td>M            </td><td>2017-08-21 00:01:48</td><td>Generic </td><td>android_webkit</td><td>Android</td><td>100.97.165.163 </td><td style=\"text-align: right;\">                 0</td><td style=\"text-align: right;\">         1306</td><td style=\"text-align: right;\">                  4788</td><td style=\"text-align: right;\">      0</td><td style=\"text-align: right;\">               0</td><td style=\"text-align: right;\">                   1</td><td style=\"text-align: right;\">              1</td><td style=\"text-align: right;\">               1</td><td style=\"text-align: right;\">          1</td></tr>\n",
       "<tr><td style=\"text-align: right;\">10243</td><td>**       </td><td style=\"text-align: right;\">       -1</td><td>M            </td><td>2017-08-21 00:01:56</td><td>Generic </td><td>android_webkit</td><td>Android</td><td>100.96.196.245 </td><td style=\"text-align: right;\">                 0</td><td style=\"text-align: right;\">         1193</td><td style=\"text-align: right;\">                  1643</td><td style=\"text-align: right;\">      0</td><td style=\"text-align: right;\">               0</td><td style=\"text-align: right;\">                   1</td><td style=\"text-align: right;\">              1</td><td style=\"text-align: right;\">               1</td><td style=\"text-align: right;\">          1</td></tr>\n",
       "<tr><td style=\"text-align: right;\">11401</td><td>**       </td><td style=\"text-align: right;\">       -1</td><td>A            </td><td>2017-08-21 00:02:09</td><td>Lenovo  </td><td>chrome        </td><td>Android</td><td>100.118.18.134 </td><td style=\"text-align: right;\">                 0</td><td style=\"text-align: right;\">         1044</td><td style=\"text-align: right;\">                 15751</td><td style=\"text-align: right;\">      0</td><td style=\"text-align: right;\">               0</td><td style=\"text-align: right;\">                   1</td><td style=\"text-align: right;\">              1</td><td style=\"text-align: right;\">               1</td><td style=\"text-align: right;\">          1</td></tr>\n",
       "<tr><td style=\"text-align: right;\">12960</td><td>**       </td><td style=\"text-align: right;\">       -1</td><td>             </td><td>2017-08-21 00:02:28</td><td>Generic </td><td>android_webkit</td><td>Android</td><td>100.109.191.134</td><td style=\"text-align: right;\">                 0</td><td style=\"text-align: right;\">         1306</td><td style=\"text-align: right;\">                  7802</td><td style=\"text-align: right;\">      0</td><td style=\"text-align: right;\">               0</td><td style=\"text-align: right;\">                   0</td><td style=\"text-align: right;\">              1</td><td style=\"text-align: right;\">               1</td><td style=\"text-align: right;\">          1</td></tr>\n",
       "<tr><td style=\"text-align: right;\">17113</td><td>**       </td><td style=\"text-align: right;\">       -1</td><td>A            </td><td>2017-08-21 00:03:16</td><td>Generic </td><td>android_webkit</td><td>Android</td><td>100.104.116.70 </td><td style=\"text-align: right;\">                 0</td><td style=\"text-align: right;\">          242</td><td style=\"text-align: right;\">                 13959</td><td style=\"text-align: right;\">      0</td><td style=\"text-align: right;\">               0</td><td style=\"text-align: right;\">                   1</td><td style=\"text-align: right;\">              1</td><td style=\"text-align: right;\">               1</td><td style=\"text-align: right;\">          1</td></tr>\n",
       "</tbody>\n",
       "</table>"
      ]
     },
     "metadata": {},
     "output_type": "display_data"
    },
    {
     "data": {
      "text/plain": []
     },
     "execution_count": 42,
     "metadata": {},
     "output_type": "execute_result"
    }
   ],
   "source": [
    "train[train['Country']=='**',:]"
   ]
  },
  {
   "cell_type": "code",
   "execution_count": 45,
   "metadata": {},
   "outputs": [
    {
     "name": "stdout",
     "output_type": "stream",
     "text": [
      "Rows:63367217\n",
      "Cols:26\n",
      "\n",
      "\n"
     ]
    },
    {
     "data": {
      "text/html": [
       "<table>\n",
       "<thead>\n",
       "<tr><th>       </th><th>ID               </th><th>Country  </th><th>Carrier  </th><th>TrafficType  </th><th>ClickDate          </th><th>Device  </th><th>Browser       </th><th>OS     </th><th>UserIp        </th><th>ConversionPayOut    </th><th>publisherId  </th><th>advertiserCampaignId  </th><th>Fraud  </th><th>CountryMissing      </th><th>TrafficTypeMissing  </th><th>DeviceMissing      </th><th>BrowserMissing     </th><th>OSMissing          </th><th>Day               </th><th>Month  </th><th>Year  </th><th>WeekNum          </th><th>WeekDay  </th><th>HourOfDay         </th><th>Weekend            </th><th>Season  </th></tr>\n",
       "</thead>\n",
       "<tbody>\n",
       "<tr><td>type   </td><td>int              </td><td>enum     </td><td>string   </td><td>enum         </td><td>time               </td><td>enum    </td><td>enum          </td><td>enum   </td><td>string        </td><td>real                </td><td>enum         </td><td>enum                  </td><td>enum   </td><td>int                 </td><td>int                 </td><td>int                </td><td>int                </td><td>int                </td><td>int               </td><td>int    </td><td>int   </td><td>int              </td><td>enum     </td><td>int               </td><td>int                </td><td>enum    </td></tr>\n",
       "<tr><td>mins   </td><td>0.0              </td><td>         </td><td>NaN      </td><td>             </td><td>1503273601000.0    </td><td>        </td><td>              </td><td>       </td><td>NaN           </td><td>0.0                 </td><td>             </td><td>                      </td><td>       </td><td>0.0                 </td><td>0.0                 </td><td>0.0                </td><td>0.0                </td><td>0.0                </td><td>21.0              </td><td>9.0    </td><td>3917.0</td><td>34.0             </td><td>         </td><td>0.0               </td><td>0.0                </td><td>        </td></tr>\n",
       "<tr><td>mean   </td><td>31683608.0       </td><td>         </td><td>NaN      </td><td>             </td><td>1503692165288.9578 </td><td>        </td><td>              </td><td>       </td><td>NaN           </td><td>0.032880682200727825</td><td>             </td><td>                      </td><td>       </td><td>0.9996982035679427  </td><td>0.8502150725666239  </td><td>0.9979028430426414 </td><td>0.9956939406065443 </td><td>0.995125192258325  </td><td>25.296599280981518</td><td>9.0    </td><td>3917.0</td><td>34.27810197187609</td><td>         </td><td>12.650071424156133</td><td>0.18352598631560543</td><td>        </td></tr>\n",
       "<tr><td>maxs   </td><td>63367216.0       </td><td>         </td><td>NaN      </td><td>             </td><td>1504137599000.0    </td><td>        </td><td>              </td><td>       </td><td>NaN           </td><td>8000.0              </td><td>             </td><td>                      </td><td>       </td><td>1.0                 </td><td>1.0                 </td><td>1.0                </td><td>1.0                </td><td>1.0                </td><td>30.0              </td><td>9.0    </td><td>3917.0</td><td>35.0             </td><td>         </td><td>23.0              </td><td>1.0                </td><td>        </td></tr>\n",
       "<tr><td>sigma  </td><td>18292540.04071128</td><td>         </td><td>NaN      </td><td>             </td><td>249274564.98401314 </td><td>        </td><td>              </td><td>       </td><td>NaN           </td><td>7.0352244079349395  </td><td>             </td><td>                      </td><td>       </td><td>0.017369667692046044</td><td>0.3568604838825101  </td><td>0.04574668209914968</td><td>0.06547913647580611</td><td>0.06964943695186046</td><td>2.880933315124209 </td><td>0.0    </td><td>0.0   </td><td>0.448063910935639</td><td>         </td><td>6.925952734967803 </td><td>0.3870971467567096 </td><td>        </td></tr>\n",
       "<tr><td>zeros  </td><td>1                </td><td>         </td><td>0        </td><td>             </td><td>0                  </td><td>        </td><td>              </td><td>       </td><td>0             </td><td>63332693            </td><td>             </td><td>                      </td><td>       </td><td>19124               </td><td>9491454             </td><td>132891             </td><td>272863             </td><td>308903             </td><td>0                 </td><td>0      </td><td>0     </td><td>0                </td><td>         </td><td>2740559           </td><td>51737686           </td><td>        </td></tr>\n",
       "<tr><td>missing</td><td>0                </td><td>41059    </td><td>0        </td><td>9491454      </td><td>0                  </td><td>132891  </td><td>272863        </td><td>308903 </td><td>0             </td><td>2                   </td><td>199          </td><td>460                   </td><td>0      </td><td>0                   </td><td>0                   </td><td>0                  </td><td>0                  </td><td>0                  </td><td>0                 </td><td>0      </td><td>0     </td><td>0                </td><td>0        </td><td>0                 </td><td>0                  </td><td>0       </td></tr>\n",
       "<tr><td>0      </td><td>0.0              </td><td>IN       </td><td>2.0      </td><td>M            </td><td>2017-08-21 00:00:01</td><td>Google  </td><td>chrome        </td><td>Android</td><td>42.111.171.131</td><td>0.0                 </td><td>69           </td><td>6555.0                </td><td>0.0    </td><td>1.0                 </td><td>1.0                 </td><td>1.0                </td><td>1.0                </td><td>1.0                </td><td>21.0              </td><td>9.0    </td><td>3917.0</td><td>34.0             </td><td>Mon      </td><td>0.0               </td><td>0.0                </td><td>Autumn  </td></tr>\n",
       "<tr><td>1      </td><td>1.0              </td><td>TH       </td><td>27.0     </td><td>A            </td><td>2017-08-21 00:00:01</td><td>Generic </td><td>46.0.2490.76  </td><td>Android</td><td>1.46.235.65   </td><td>0.0                 </td><td>646          </td><td>7510.0                </td><td>0.0    </td><td>1.0                 </td><td>1.0                 </td><td>1.0                </td><td>1.0                </td><td>1.0                </td><td>21.0              </td><td>9.0    </td><td>3917.0</td><td>34.0             </td><td>Mon      </td><td>0.0               </td><td>0.0                </td><td>Autumn  </td></tr>\n",
       "<tr><td>2      </td><td>2.0              </td><td>IN       </td><td>4.0      </td><td>M            </td><td>2017-08-21 00:00:01</td><td>Samsung </td><td>chromium      </td><td>Android</td><td>49.15.91.224  </td><td>0.0                 </td><td>301          </td><td>12696.0               </td><td>0.0    </td><td>1.0                 </td><td>1.0                 </td><td>1.0                </td><td>1.0                </td><td>1.0                </td><td>21.0              </td><td>9.0    </td><td>3917.0</td><td>34.0             </td><td>Mon      </td><td>0.0               </td><td>0.0                </td><td>Autumn  </td></tr>\n",
       "<tr><td>3      </td><td>3.0              </td><td>PH       </td><td>-1.0     </td><td>A            </td><td>2017-08-21 00:00:01</td><td>Generic </td><td>android_webkit</td><td>Android</td><td>115.42.126.86 </td><td>0.0                 </td><td>242          </td><td>735.0                 </td><td>0.0    </td><td>1.0                 </td><td>1.0                 </td><td>1.0                </td><td>1.0                </td><td>1.0                </td><td>21.0              </td><td>9.0    </td><td>3917.0</td><td>34.0             </td><td>Mon      </td><td>0.0               </td><td>0.0                </td><td>Autumn  </td></tr>\n",
       "<tr><td>4      </td><td>4.0              </td><td>MX       </td><td>-1.0     </td><td>             </td><td>2017-08-21 00:00:01</td><td>Generic </td><td>chrome        </td><td>Android</td><td>187.161.11.97 </td><td>0.0                 </td><td>1306         </td><td>7802.0                </td><td>0.0    </td><td>1.0                 </td><td>0.0                 </td><td>1.0                </td><td>1.0                </td><td>1.0                </td><td>21.0              </td><td>9.0    </td><td>3917.0</td><td>34.0             </td><td>Mon      </td><td>0.0               </td><td>0.0                </td><td>Autumn  </td></tr>\n",
       "<tr><td>5      </td><td>5.0              </td><td>BD       </td><td>125.0    </td><td>             </td><td>2017-08-21 00:00:01</td><td>Samsung </td><td>chrome        </td><td>Android</td><td>103.242.21.244</td><td>0.0                 </td><td>1306         </td><td>2025.0                </td><td>0.0    </td><td>1.0                 </td><td>0.0                 </td><td>1.0                </td><td>1.0                </td><td>1.0                </td><td>21.0              </td><td>9.0    </td><td>3917.0</td><td>34.0             </td><td>Mon      </td><td>0.0               </td><td>0.0                </td><td>Autumn  </td></tr>\n",
       "<tr><td>6      </td><td>6.0              </td><td>MX       </td><td>50.0     </td><td>M            </td><td>2017-08-21 00:00:01</td><td>Zonda   </td><td>chrome        </td><td>Android</td><td>187.237.239.5 </td><td>0.0                 </td><td>55           </td><td>12688.0               </td><td>0.0    </td><td>1.0                 </td><td>1.0                 </td><td>1.0                </td><td>1.0                </td><td>1.0                </td><td>21.0              </td><td>9.0    </td><td>3917.0</td><td>34.0             </td><td>Mon      </td><td>0.0               </td><td>0.0                </td><td>Autumn  </td></tr>\n",
       "<tr><td>7      </td><td>7.0              </td><td>IN       </td><td>2.0      </td><td>A            </td><td>2017-08-21 00:00:01</td><td>Motorola</td><td>chrome        </td><td>Android</td><td>42.106.70.46  </td><td>0.0                 </td><td>1044         </td><td>8786.0                </td><td>0.0    </td><td>1.0                 </td><td>1.0                 </td><td>1.0                </td><td>1.0                </td><td>1.0                </td><td>21.0              </td><td>9.0    </td><td>3917.0</td><td>34.0             </td><td>Mon      </td><td>0.0               </td><td>0.0                </td><td>Autumn  </td></tr>\n",
       "<tr><td>8      </td><td>8.0              </td><td>BR       </td><td>218.0    </td><td>             </td><td>2017-08-21 00:00:01</td><td>Generic </td><td>android_webkit</td><td>Android</td><td>189.0.123.228 </td><td>0.0                 </td><td>1031         </td><td>4901.0                </td><td>0.0    </td><td>1.0                 </td><td>0.0                 </td><td>1.0                </td><td>1.0                </td><td>1.0                </td><td>21.0              </td><td>9.0    </td><td>3917.0</td><td>34.0             </td><td>Mon      </td><td>0.0               </td><td>0.0                </td><td>Autumn  </td></tr>\n",
       "<tr><td>9      </td><td>9.0              </td><td>IQ       </td><td>-1.0     </td><td>A            </td><td>2017-08-21 00:00:01</td><td>Generic </td><td>android_webkit</td><td>Android</td><td>93.187.32.6   </td><td>0.0                 </td><td>282          </td><td>5893.0                </td><td>0.0    </td><td>1.0                 </td><td>1.0                 </td><td>1.0                </td><td>1.0                </td><td>1.0                </td><td>21.0              </td><td>9.0    </td><td>3917.0</td><td>34.0             </td><td>Mon      </td><td>0.0               </td><td>0.0                </td><td>Autumn  </td></tr>\n",
       "</tbody>\n",
       "</table>"
      ]
     },
     "metadata": {},
     "output_type": "display_data"
    },
    {
     "name": "stdout",
     "output_type": "stream",
     "text": [
      "Rows:63367217\n",
      "Cols:25\n",
      "\n",
      "\n"
     ]
    },
    {
     "data": {
      "text/html": [
       "<table>\n",
       "<thead>\n",
       "<tr><th>       </th><th>ID               </th><th>Country  </th><th>Carrier  </th><th>TrafficType  </th><th>Device  </th><th>Browser       </th><th>OS     </th><th>UserIp        </th><th>ConversionPayOut    </th><th>publisherId  </th><th>advertiserCampaignId  </th><th>Fraud  </th><th>CountryMissing      </th><th>TrafficTypeMissing  </th><th>DeviceMissing      </th><th>BrowserMissing     </th><th>OSMissing          </th><th>Day               </th><th>Month  </th><th>Year  </th><th>WeekNum          </th><th>WeekDay  </th><th>HourOfDay         </th><th>Weekend            </th><th>Season  </th></tr>\n",
       "</thead>\n",
       "<tbody>\n",
       "<tr><td>type   </td><td>int              </td><td>enum     </td><td>string   </td><td>enum         </td><td>enum    </td><td>enum          </td><td>enum   </td><td>string        </td><td>real                </td><td>enum         </td><td>enum                  </td><td>enum   </td><td>int                 </td><td>int                 </td><td>int                </td><td>int                </td><td>int                </td><td>int               </td><td>int    </td><td>int   </td><td>int              </td><td>enum     </td><td>int               </td><td>int                </td><td>enum    </td></tr>\n",
       "<tr><td>mins   </td><td>0.0              </td><td>         </td><td>NaN      </td><td>             </td><td>        </td><td>              </td><td>       </td><td>NaN           </td><td>0.0                 </td><td>             </td><td>                      </td><td>       </td><td>0.0                 </td><td>0.0                 </td><td>0.0                </td><td>0.0                </td><td>0.0                </td><td>21.0              </td><td>9.0    </td><td>3917.0</td><td>34.0             </td><td>         </td><td>0.0               </td><td>0.0                </td><td>        </td></tr>\n",
       "<tr><td>mean   </td><td>31683608.0       </td><td>         </td><td>NaN      </td><td>             </td><td>        </td><td>              </td><td>       </td><td>NaN           </td><td>0.032880682200727825</td><td>             </td><td>                      </td><td>       </td><td>0.9996982035679427  </td><td>0.8502150725666239  </td><td>0.9979028430426414 </td><td>0.9956939406065443 </td><td>0.995125192258325  </td><td>25.296599280981518</td><td>9.0    </td><td>3917.0</td><td>34.27810197187609</td><td>         </td><td>12.650071424156133</td><td>0.18352598631560543</td><td>        </td></tr>\n",
       "<tr><td>maxs   </td><td>63367216.0       </td><td>         </td><td>NaN      </td><td>             </td><td>        </td><td>              </td><td>       </td><td>NaN           </td><td>8000.0              </td><td>             </td><td>                      </td><td>       </td><td>1.0                 </td><td>1.0                 </td><td>1.0                </td><td>1.0                </td><td>1.0                </td><td>30.0              </td><td>9.0    </td><td>3917.0</td><td>35.0             </td><td>         </td><td>23.0              </td><td>1.0                </td><td>        </td></tr>\n",
       "<tr><td>sigma  </td><td>18292540.04071128</td><td>         </td><td>NaN      </td><td>             </td><td>        </td><td>              </td><td>       </td><td>NaN           </td><td>7.0352244079349395  </td><td>             </td><td>                      </td><td>       </td><td>0.017369667692046044</td><td>0.3568604838825101  </td><td>0.04574668209914968</td><td>0.06547913647580611</td><td>0.06964943695186046</td><td>2.880933315124209 </td><td>0.0    </td><td>0.0   </td><td>0.448063910935639</td><td>         </td><td>6.925952734967803 </td><td>0.3870971467567096 </td><td>        </td></tr>\n",
       "<tr><td>zeros  </td><td>1                </td><td>         </td><td>0        </td><td>             </td><td>        </td><td>              </td><td>       </td><td>0             </td><td>63332693            </td><td>             </td><td>                      </td><td>       </td><td>19124               </td><td>9491454             </td><td>132891             </td><td>272863             </td><td>308903             </td><td>0                 </td><td>0      </td><td>0     </td><td>0                </td><td>         </td><td>2740559           </td><td>51737686           </td><td>        </td></tr>\n",
       "<tr><td>missing</td><td>0                </td><td>41059    </td><td>0        </td><td>9491454      </td><td>132891  </td><td>272863        </td><td>308903 </td><td>0             </td><td>2                   </td><td>199          </td><td>460                   </td><td>0      </td><td>0                   </td><td>0                   </td><td>0                  </td><td>0                  </td><td>0                  </td><td>0                 </td><td>0      </td><td>0     </td><td>0                </td><td>0        </td><td>0                 </td><td>0                  </td><td>0       </td></tr>\n",
       "<tr><td>0      </td><td>0.0              </td><td>IN       </td><td>2.0      </td><td>M            </td><td>Google  </td><td>chrome        </td><td>Android</td><td>42.111.171.131</td><td>0.0                 </td><td>69           </td><td>6555.0                </td><td>0.0    </td><td>1.0                 </td><td>1.0                 </td><td>1.0                </td><td>1.0                </td><td>1.0                </td><td>21.0              </td><td>9.0    </td><td>3917.0</td><td>34.0             </td><td>Mon      </td><td>0.0               </td><td>0.0                </td><td>Autumn  </td></tr>\n",
       "<tr><td>1      </td><td>1.0              </td><td>TH       </td><td>27.0     </td><td>A            </td><td>Generic </td><td>46.0.2490.76  </td><td>Android</td><td>1.46.235.65   </td><td>0.0                 </td><td>646          </td><td>7510.0                </td><td>0.0    </td><td>1.0                 </td><td>1.0                 </td><td>1.0                </td><td>1.0                </td><td>1.0                </td><td>21.0              </td><td>9.0    </td><td>3917.0</td><td>34.0             </td><td>Mon      </td><td>0.0               </td><td>0.0                </td><td>Autumn  </td></tr>\n",
       "<tr><td>2      </td><td>2.0              </td><td>IN       </td><td>4.0      </td><td>M            </td><td>Samsung </td><td>chromium      </td><td>Android</td><td>49.15.91.224  </td><td>0.0                 </td><td>301          </td><td>12696.0               </td><td>0.0    </td><td>1.0                 </td><td>1.0                 </td><td>1.0                </td><td>1.0                </td><td>1.0                </td><td>21.0              </td><td>9.0    </td><td>3917.0</td><td>34.0             </td><td>Mon      </td><td>0.0               </td><td>0.0                </td><td>Autumn  </td></tr>\n",
       "<tr><td>3      </td><td>3.0              </td><td>PH       </td><td>-1.0     </td><td>A            </td><td>Generic </td><td>android_webkit</td><td>Android</td><td>115.42.126.86 </td><td>0.0                 </td><td>242          </td><td>735.0                 </td><td>0.0    </td><td>1.0                 </td><td>1.0                 </td><td>1.0                </td><td>1.0                </td><td>1.0                </td><td>21.0              </td><td>9.0    </td><td>3917.0</td><td>34.0             </td><td>Mon      </td><td>0.0               </td><td>0.0                </td><td>Autumn  </td></tr>\n",
       "<tr><td>4      </td><td>4.0              </td><td>MX       </td><td>-1.0     </td><td>             </td><td>Generic </td><td>chrome        </td><td>Android</td><td>187.161.11.97 </td><td>0.0                 </td><td>1306         </td><td>7802.0                </td><td>0.0    </td><td>1.0                 </td><td>0.0                 </td><td>1.0                </td><td>1.0                </td><td>1.0                </td><td>21.0              </td><td>9.0    </td><td>3917.0</td><td>34.0             </td><td>Mon      </td><td>0.0               </td><td>0.0                </td><td>Autumn  </td></tr>\n",
       "<tr><td>5      </td><td>5.0              </td><td>BD       </td><td>125.0    </td><td>             </td><td>Samsung </td><td>chrome        </td><td>Android</td><td>103.242.21.244</td><td>0.0                 </td><td>1306         </td><td>2025.0                </td><td>0.0    </td><td>1.0                 </td><td>0.0                 </td><td>1.0                </td><td>1.0                </td><td>1.0                </td><td>21.0              </td><td>9.0    </td><td>3917.0</td><td>34.0             </td><td>Mon      </td><td>0.0               </td><td>0.0                </td><td>Autumn  </td></tr>\n",
       "<tr><td>6      </td><td>6.0              </td><td>MX       </td><td>50.0     </td><td>M            </td><td>Zonda   </td><td>chrome        </td><td>Android</td><td>187.237.239.5 </td><td>0.0                 </td><td>55           </td><td>12688.0               </td><td>0.0    </td><td>1.0                 </td><td>1.0                 </td><td>1.0                </td><td>1.0                </td><td>1.0                </td><td>21.0              </td><td>9.0    </td><td>3917.0</td><td>34.0             </td><td>Mon      </td><td>0.0               </td><td>0.0                </td><td>Autumn  </td></tr>\n",
       "<tr><td>7      </td><td>7.0              </td><td>IN       </td><td>2.0      </td><td>A            </td><td>Motorola</td><td>chrome        </td><td>Android</td><td>42.106.70.46  </td><td>0.0                 </td><td>1044         </td><td>8786.0                </td><td>0.0    </td><td>1.0                 </td><td>1.0                 </td><td>1.0                </td><td>1.0                </td><td>1.0                </td><td>21.0              </td><td>9.0    </td><td>3917.0</td><td>34.0             </td><td>Mon      </td><td>0.0               </td><td>0.0                </td><td>Autumn  </td></tr>\n",
       "<tr><td>8      </td><td>8.0              </td><td>BR       </td><td>218.0    </td><td>             </td><td>Generic </td><td>android_webkit</td><td>Android</td><td>189.0.123.228 </td><td>0.0                 </td><td>1031         </td><td>4901.0                </td><td>0.0    </td><td>1.0                 </td><td>0.0                 </td><td>1.0                </td><td>1.0                </td><td>1.0                </td><td>21.0              </td><td>9.0    </td><td>3917.0</td><td>34.0             </td><td>Mon      </td><td>0.0               </td><td>0.0                </td><td>Autumn  </td></tr>\n",
       "<tr><td>9      </td><td>9.0              </td><td>IQ       </td><td>-1.0     </td><td>A            </td><td>Generic </td><td>android_webkit</td><td>Android</td><td>93.187.32.6   </td><td>0.0                 </td><td>282          </td><td>5893.0                </td><td>0.0    </td><td>1.0                 </td><td>1.0                 </td><td>1.0                </td><td>1.0                </td><td>1.0                </td><td>21.0              </td><td>9.0    </td><td>3917.0</td><td>34.0             </td><td>Mon      </td><td>0.0               </td><td>0.0                </td><td>Autumn  </td></tr>\n",
       "</tbody>\n",
       "</table>"
      ]
     },
     "metadata": {},
     "output_type": "display_data"
    }
   ],
   "source": [
    "def refine_date_col(data, col, pattern):\n",
    "    #data[col]         = data[col].as_date(pattern) # As of 5/29/2106 H2O defaults parse as a date\n",
    "    data[\"Day\"]       = data[col].day()\n",
    "    data[\"Month\"]     = data[col].month() + 1     # Since H2O indexes from 0\n",
    "    data[\"Year\"]      = data[col].year() + 1900   # Start of epoch is 1900\n",
    "    data[\"WeekNum\"]   = data[col].week()\n",
    "    data[\"WeekDay\"]   = data[col].dayOfWeek()\n",
    "    data[\"HourOfDay\"] = data[col].hour()\n",
    "    \n",
    "    data.describe()  # HACK: Force evaluation before ifelse and cut. See PUBDEV-1425.\n",
    "    \n",
    "    # Create weekend and season cols\n",
    "    # Spring = Mar, Apr, May. Summer = Jun, Jul, Aug. Autumn = Sep, Oct. Winter = Nov, Dec, Jan, Feb.\n",
    "    # data[\"Weekend\"]   = [1 if x in (\"Sun\", \"Sat\") else 0 for x in data[\"WeekDay\"]]\n",
    "    data[\"Weekend\"] = ((data[\"WeekDay\"] == \"Sun\") | (data[\"WeekDay\"] == \"Sat\"))\n",
    "    data[\"Season\"] = data[\"Month\"].cut([0, 2, 5, 7, 10, 12], [\"Winter\", \"Spring\", \"Summer\", \"Autumn\", \"Winter\"])\n",
    "    \n",
    "refine_date_col(train, \"ClickDate\", \"%Y-%m-%d %H:%M:%S\")\n",
    "train = train.drop(\"ClickDate\")\n",
    "train.describe()"
   ]
  },
  {
   "cell_type": "code",
   "execution_count": 65,
   "metadata": {},
   "outputs": [
    {
     "name": "stdout",
     "output_type": "stream",
     "text": [
      "Rows:25548873\n",
      "Cols:25\n",
      "\n",
      "\n"
     ]
    },
    {
     "data": {
      "text/html": [
       "<table>\n",
       "<thead>\n",
       "<tr><th>       </th><th>ID               </th><th>Country  </th><th>Carrier  </th><th>TrafficType  </th><th>ClickDate         </th><th>Device   </th><th>Browser       </th><th>OS     </th><th>RefererUrl   </th><th>UserIp         </th><th>publisherId  </th><th>subPublisherId  </th><th>advertiserCampaignId  </th><th>Fraud  </th><th>CountryMissing      </th><th>TrafficTypeMissing  </th><th>DeviceMissing      </th><th>BrowserMissing     </th><th>OSMissing          </th><th>Day               </th><th>Month             </th><th>Year  </th><th>WeekNum  </th><th>WeekDay  </th><th>HourOfDay         </th></tr>\n",
       "</thead>\n",
       "<tbody>\n",
       "<tr><td>type   </td><td>int              </td><td>enum     </td><td>string   </td><td>enum         </td><td>int               </td><td>enum     </td><td>enum          </td><td>enum   </td><td>enum         </td><td>string         </td><td>enum         </td><td>string          </td><td>enum                  </td><td>enum   </td><td>int                 </td><td>int                 </td><td>int                </td><td>int                </td><td>int                </td><td>int               </td><td>int               </td><td>int   </td><td>int      </td><td>enum     </td><td>int               </td></tr>\n",
       "<tr><td>mins   </td><td>63367289.0       </td><td>         </td><td>NaN      </td><td>             </td><td>1504137601000.0   </td><td>         </td><td>              </td><td>       </td><td>             </td><td>NaN            </td><td>             </td><td>NaN             </td><td>                      </td><td>       </td><td>0.0                 </td><td>0.0                 </td><td>0.0                </td><td>0.0                </td><td>0.0                </td><td>1.0               </td><td>9.0               </td><td>3917.0</td><td>35.0     </td><td>         </td><td>0.0               </td></tr>\n",
       "<tr><td>mean   </td><td>76141725.0       </td><td>         </td><td>NaN      </td><td>             </td><td>1504315279248.3716</td><td>         </td><td>              </td><td>       </td><td>             </td><td>NaN            </td><td>             </td><td>NaN             </td><td>                      </td><td>       </td><td>0.9997809296715358  </td><td>0.796449769036779   </td><td>0.9978568917697466 </td><td>0.9962779962936135 </td><td>0.9947876370124037 </td><td>8.862143703951254 </td><td>9.763068414015756 </td><td>3917.0</td><td>35.0     </td><td>         </td><td>12.440915652130725</td></tr>\n",
       "<tr><td>maxs   </td><td>88916161.0       </td><td>         </td><td>NaN      </td><td>             </td><td>1504483139000.0   </td><td>         </td><td>              </td><td>       </td><td>             </td><td>NaN            </td><td>             </td><td>NaN             </td><td>                      </td><td>       </td><td>1.0                 </td><td>1.0                 </td><td>1.0                </td><td>1.0                </td><td>1.0                </td><td>31.0              </td><td>10.0              </td><td>3917.0</td><td>35.0     </td><td>         </td><td>23.0              </td></tr>\n",
       "<tr><td>sigma  </td><td>7375324.496358347</td><td>         </td><td>NaN      </td><td>             </td><td>97551760.01795556 </td><td>         </td><td>              </td><td>       </td><td>             </td><td>NaN            </td><td>             </td><td>NaN             </td><td>                      </td><td>       </td><td>0.014799403542983168</td><td>0.4026382256858252  </td><td>0.04624408503873537</td><td>0.06089458547305925</td><td>0.07200829440164433</td><td>12.356133711190422</td><td>0.4251999725113753</td><td>0.0   </td><td>0.0      </td><td>         </td><td>6.850438040764894 </td></tr>\n",
       "<tr><td>zeros  </td><td>0                </td><td>         </td><td>0        </td><td>             </td><td>0                 </td><td>         </td><td>              </td><td>       </td><td>             </td><td>0              </td><td>             </td><td>0               </td><td>                      </td><td>       </td><td>5597                </td><td>5200479             </td><td>54754              </td><td>95093              </td><td>133170             </td><td>0                 </td><td>0                 </td><td>0     </td><td>0        </td><td>         </td><td>1091449           </td></tr>\n",
       "<tr><td>missing</td><td>0                </td><td>9038     </td><td>0        </td><td>5200479      </td><td>0                 </td><td>54754    </td><td>95093         </td><td>133170 </td><td>16309125     </td><td>0              </td><td>152          </td><td>24856158        </td><td>398                   </td><td>0      </td><td>0                   </td><td>0                   </td><td>0                  </td><td>0                  </td><td>0                  </td><td>0                 </td><td>0                 </td><td>0     </td><td>0        </td><td>0        </td><td>0                 </td></tr>\n",
       "<tr><td>0      </td><td>63367289.0       </td><td>IN       </td><td>5.0      </td><td>             </td><td>1504137601000.0   </td><td>Generic  </td><td>uc            </td><td>Android</td><td>             </td><td>101.58.211.15  </td><td>1479         </td><td>                </td><td>16216.0               </td><td>0.0    </td><td>1.0                 </td><td>0.0                 </td><td>1.0                </td><td>1.0                </td><td>1.0                </td><td>31.0              </td><td>9.0               </td><td>3917.0</td><td>35.0     </td><td>Thu      </td><td>0.0               </td></tr>\n",
       "<tr><td>1      </td><td>63367290.0       </td><td>IN       </td><td>2.0      </td><td>M            </td><td>1504137601000.0   </td><td>Datawind </td><td>chrome        </td><td>Android</td><td>             </td><td>42.107.175.145 </td><td>3734         </td><td>                </td><td>1836.0                </td><td>0.0    </td><td>1.0                 </td><td>1.0                 </td><td>1.0                </td><td>1.0                </td><td>1.0                </td><td>31.0              </td><td>9.0               </td><td>3917.0</td><td>35.0     </td><td>Thu      </td><td>0.0               </td></tr>\n",
       "<tr><td>2      </td><td>63367291.0       </td><td>IN       </td><td>1.0      </td><td>A            </td><td>1504137601000.0   </td><td>Panasonic</td><td>chrome        </td><td>Android</td><td>synctraff.com</td><td>106.223.85.251 </td><td>282.0        </td><td>                </td><td>13431.0               </td><td>0.0    </td><td>1.0                 </td><td>1.0                 </td><td>1.0                </td><td>1.0                </td><td>1.0                </td><td>31.0              </td><td>9.0               </td><td>3917.0</td><td>35.0     </td><td>Thu      </td><td>0.0               </td></tr>\n",
       "<tr><td>3      </td><td>63367292.0       </td><td>BR       </td><td>-1.0     </td><td>M            </td><td>1504137601000.0   </td><td>Generic  </td><td>android_webkit</td><td>Android</td><td>             </td><td>177.35.22.162  </td><td>1203         </td><td>                </td><td>4787.0                </td><td>0.0    </td><td>1.0                 </td><td>1.0                 </td><td>1.0                </td><td>1.0                </td><td>1.0                </td><td>31.0              </td><td>9.0               </td><td>3917.0</td><td>35.0     </td><td>Thu      </td><td>0.0               </td></tr>\n",
       "<tr><td>4      </td><td>63367293.0       </td><td>IN       </td><td>3.0      </td><td>A            </td><td>1504137601000.0   </td><td>Micromax </td><td>chrome        </td><td>Android</td><td>             </td><td>101.210.255.232</td><td>597.0        </td><td>                </td><td>9769.0                </td><td>0.0    </td><td>1.0                 </td><td>1.0                 </td><td>1.0                </td><td>1.0                </td><td>1.0                </td><td>31.0              </td><td>9.0               </td><td>3917.0</td><td>35.0     </td><td>Thu      </td><td>0.0               </td></tr>\n",
       "<tr><td>5      </td><td>63367294.0       </td><td>BD       </td><td>45.0     </td><td>             </td><td>1504137601000.0   </td><td>Symphony </td><td>46.0.2490.76  </td><td>Android</td><td>             </td><td>103.67.158.77  </td><td>1306         </td><td>                </td><td>10227.0               </td><td>0.0    </td><td>1.0                 </td><td>0.0                 </td><td>1.0                </td><td>1.0                </td><td>1.0                </td><td>31.0              </td><td>9.0               </td><td>3917.0</td><td>35.0     </td><td>Thu      </td><td>0.0               </td></tr>\n",
       "<tr><td>6      </td><td>63367295.0       </td><td>RU       </td><td>-1.0     </td><td>A            </td><td>1504137601000.0   </td><td>Micromax </td><td>46.0.2490.76  </td><td>Android</td><td>             </td><td>46.146.8.55    </td><td>55           </td><td>                </td><td>11225.0               </td><td>0.0    </td><td>1.0                 </td><td>1.0                 </td><td>1.0                </td><td>1.0                </td><td>1.0                </td><td>31.0              </td><td>9.0               </td><td>3917.0</td><td>35.0     </td><td>Thu      </td><td>0.0               </td></tr>\n",
       "<tr><td>7      </td><td>63367296.0       </td><td>ID       </td><td>47.0     </td><td>M            </td><td>1504137601000.0   </td><td>Generic  </td><td>android_webkit</td><td>Android</td><td>             </td><td>120.188.84.62  </td><td>55           </td><td>                </td><td>13960.0               </td><td>0.0    </td><td>1.0                 </td><td>1.0                 </td><td>1.0                </td><td>1.0                </td><td>1.0                </td><td>31.0              </td><td>9.0               </td><td>3917.0</td><td>35.0     </td><td>Thu      </td><td>0.0               </td></tr>\n",
       "<tr><td>8      </td><td>63367297.0       </td><td>ID       </td><td>46.0     </td><td>M            </td><td>1504137601000.0   </td><td>Generic  </td><td>android_webkit</td><td>Android</td><td>             </td><td>112.215.244.33 </td><td>1306         </td><td>                </td><td>2024.0                </td><td>0.0    </td><td>1.0                 </td><td>1.0                 </td><td>1.0                </td><td>1.0                </td><td>1.0                </td><td>31.0              </td><td>9.0               </td><td>3917.0</td><td>35.0     </td><td>Thu      </td><td>0.0               </td></tr>\n",
       "<tr><td>9      </td><td>63367298.0       </td><td>US       </td><td>916.0    </td><td>             </td><td>1504137601000.0   </td><td>Generic  </td><td>android_webkit</td><td>Android</td><td>             </td><td>172.58.70.188  </td><td>1306.0       </td><td>                </td><td>12345.0               </td><td>0.0    </td><td>1.0                 </td><td>0.0                 </td><td>1.0                </td><td>1.0                </td><td>1.0                </td><td>31.0              </td><td>9.0               </td><td>3917.0</td><td>35.0     </td><td>Thu      </td><td>0.0               </td></tr>\n",
       "</tbody>\n",
       "</table>"
      ]
     },
     "metadata": {},
     "output_type": "display_data"
    },
    {
     "name": "stdout",
     "output_type": "stream",
     "text": [
      "Rows:25548873\n",
      "Cols:26\n",
      "\n",
      "\n"
     ]
    },
    {
     "data": {
      "text/html": [
       "<table>\n",
       "<thead>\n",
       "<tr><th>       </th><th>ID               </th><th>Country  </th><th>Carrier  </th><th>TrafficType  </th><th>Device   </th><th>Browser       </th><th>OS     </th><th>RefererUrl   </th><th>UserIp         </th><th>publisherId  </th><th>subPublisherId  </th><th>advertiserCampaignId  </th><th>Fraud  </th><th>CountryMissing      </th><th>TrafficTypeMissing  </th><th>DeviceMissing      </th><th>BrowserMissing     </th><th>OSMissing          </th><th>Day               </th><th>Month             </th><th>Year  </th><th>WeekNum  </th><th>WeekDay  </th><th>HourOfDay         </th><th>Weekend           </th><th>Season  </th></tr>\n",
       "</thead>\n",
       "<tbody>\n",
       "<tr><td>type   </td><td>int              </td><td>enum     </td><td>string   </td><td>enum         </td><td>enum     </td><td>enum          </td><td>enum   </td><td>enum         </td><td>string         </td><td>enum         </td><td>string          </td><td>enum                  </td><td>enum   </td><td>int                 </td><td>int                 </td><td>int                </td><td>int                </td><td>int                </td><td>int               </td><td>int               </td><td>int   </td><td>int      </td><td>enum     </td><td>int               </td><td>int               </td><td>enum    </td></tr>\n",
       "<tr><td>mins   </td><td>63367289.0       </td><td>         </td><td>NaN      </td><td>             </td><td>         </td><td>              </td><td>       </td><td>             </td><td>NaN            </td><td>             </td><td>NaN             </td><td>                      </td><td>       </td><td>0.0                 </td><td>0.0                 </td><td>0.0                </td><td>0.0                </td><td>0.0                </td><td>1.0               </td><td>9.0               </td><td>3917.0</td><td>35.0     </td><td>         </td><td>0.0               </td><td>0.0               </td><td>        </td></tr>\n",
       "<tr><td>mean   </td><td>76141725.0       </td><td>         </td><td>NaN      </td><td>             </td><td>         </td><td>              </td><td>       </td><td>             </td><td>NaN            </td><td>             </td><td>NaN             </td><td>                      </td><td>       </td><td>0.9997809296715358  </td><td>0.796449769036779   </td><td>0.9978568917697466 </td><td>0.9962779962936135 </td><td>0.9947876370124037 </td><td>8.862143703951254 </td><td>9.763068414015756 </td><td>3917.0</td><td>35.0     </td><td>         </td><td>12.440915652130725</td><td>0.5068389122291226</td><td>        </td></tr>\n",
       "<tr><td>maxs   </td><td>88916161.0       </td><td>         </td><td>NaN      </td><td>             </td><td>         </td><td>              </td><td>       </td><td>             </td><td>NaN            </td><td>             </td><td>NaN             </td><td>                      </td><td>       </td><td>1.0                 </td><td>1.0                 </td><td>1.0                </td><td>1.0                </td><td>1.0                </td><td>31.0              </td><td>10.0              </td><td>3917.0</td><td>35.0     </td><td>         </td><td>23.0              </td><td>1.0               </td><td>        </td></tr>\n",
       "<tr><td>sigma  </td><td>7375324.496358347</td><td>         </td><td>NaN      </td><td>             </td><td>         </td><td>              </td><td>       </td><td>             </td><td>NaN            </td><td>             </td><td>NaN             </td><td>                      </td><td>       </td><td>0.014799403542983168</td><td>0.4026382256858252  </td><td>0.04624408503873537</td><td>0.06089458547305925</td><td>0.07200829440164433</td><td>12.356133711190422</td><td>0.4251999725113753</td><td>0.0   </td><td>0.0      </td><td>         </td><td>6.850438040764894 </td><td>0.4999532368760698</td><td>        </td></tr>\n",
       "<tr><td>zeros  </td><td>0                </td><td>         </td><td>0        </td><td>             </td><td>         </td><td>              </td><td>       </td><td>             </td><td>0              </td><td>             </td><td>0               </td><td>                      </td><td>       </td><td>5597                </td><td>5200479             </td><td>54754              </td><td>95093              </td><td>133170             </td><td>0                 </td><td>0                 </td><td>0     </td><td>0        </td><td>         </td><td>1091449           </td><td>12599710          </td><td>        </td></tr>\n",
       "<tr><td>missing</td><td>0                </td><td>9038     </td><td>0        </td><td>5200479      </td><td>54754    </td><td>95093         </td><td>133170 </td><td>16309125     </td><td>0              </td><td>152          </td><td>24856158        </td><td>398                   </td><td>0      </td><td>0                   </td><td>0                   </td><td>0                  </td><td>0                  </td><td>0                  </td><td>0                 </td><td>0                 </td><td>0     </td><td>0        </td><td>0        </td><td>0                 </td><td>0                 </td><td>0       </td></tr>\n",
       "<tr><td>0      </td><td>63367289.0       </td><td>IN       </td><td>5.0      </td><td>             </td><td>Generic  </td><td>uc            </td><td>Android</td><td>             </td><td>101.58.211.15  </td><td>1479         </td><td>                </td><td>16216.0               </td><td>0.0    </td><td>1.0                 </td><td>0.0                 </td><td>1.0                </td><td>1.0                </td><td>1.0                </td><td>31.0              </td><td>9.0               </td><td>3917.0</td><td>35.0     </td><td>Thu      </td><td>0.0               </td><td>0.0               </td><td>Autumn  </td></tr>\n",
       "<tr><td>1      </td><td>63367290.0       </td><td>IN       </td><td>2.0      </td><td>M            </td><td>Datawind </td><td>chrome        </td><td>Android</td><td>             </td><td>42.107.175.145 </td><td>3734         </td><td>                </td><td>1836.0                </td><td>0.0    </td><td>1.0                 </td><td>1.0                 </td><td>1.0                </td><td>1.0                </td><td>1.0                </td><td>31.0              </td><td>9.0               </td><td>3917.0</td><td>35.0     </td><td>Thu      </td><td>0.0               </td><td>0.0               </td><td>Autumn  </td></tr>\n",
       "<tr><td>2      </td><td>63367291.0       </td><td>IN       </td><td>1.0      </td><td>A            </td><td>Panasonic</td><td>chrome        </td><td>Android</td><td>synctraff.com</td><td>106.223.85.251 </td><td>282.0        </td><td>                </td><td>13431.0               </td><td>0.0    </td><td>1.0                 </td><td>1.0                 </td><td>1.0                </td><td>1.0                </td><td>1.0                </td><td>31.0              </td><td>9.0               </td><td>3917.0</td><td>35.0     </td><td>Thu      </td><td>0.0               </td><td>0.0               </td><td>Autumn  </td></tr>\n",
       "<tr><td>3      </td><td>63367292.0       </td><td>BR       </td><td>-1.0     </td><td>M            </td><td>Generic  </td><td>android_webkit</td><td>Android</td><td>             </td><td>177.35.22.162  </td><td>1203         </td><td>                </td><td>4787.0                </td><td>0.0    </td><td>1.0                 </td><td>1.0                 </td><td>1.0                </td><td>1.0                </td><td>1.0                </td><td>31.0              </td><td>9.0               </td><td>3917.0</td><td>35.0     </td><td>Thu      </td><td>0.0               </td><td>0.0               </td><td>Autumn  </td></tr>\n",
       "<tr><td>4      </td><td>63367293.0       </td><td>IN       </td><td>3.0      </td><td>A            </td><td>Micromax </td><td>chrome        </td><td>Android</td><td>             </td><td>101.210.255.232</td><td>597.0        </td><td>                </td><td>9769.0                </td><td>0.0    </td><td>1.0                 </td><td>1.0                 </td><td>1.0                </td><td>1.0                </td><td>1.0                </td><td>31.0              </td><td>9.0               </td><td>3917.0</td><td>35.0     </td><td>Thu      </td><td>0.0               </td><td>0.0               </td><td>Autumn  </td></tr>\n",
       "<tr><td>5      </td><td>63367294.0       </td><td>BD       </td><td>45.0     </td><td>             </td><td>Symphony </td><td>46.0.2490.76  </td><td>Android</td><td>             </td><td>103.67.158.77  </td><td>1306         </td><td>                </td><td>10227.0               </td><td>0.0    </td><td>1.0                 </td><td>0.0                 </td><td>1.0                </td><td>1.0                </td><td>1.0                </td><td>31.0              </td><td>9.0               </td><td>3917.0</td><td>35.0     </td><td>Thu      </td><td>0.0               </td><td>0.0               </td><td>Autumn  </td></tr>\n",
       "<tr><td>6      </td><td>63367295.0       </td><td>RU       </td><td>-1.0     </td><td>A            </td><td>Micromax </td><td>46.0.2490.76  </td><td>Android</td><td>             </td><td>46.146.8.55    </td><td>55           </td><td>                </td><td>11225.0               </td><td>0.0    </td><td>1.0                 </td><td>1.0                 </td><td>1.0                </td><td>1.0                </td><td>1.0                </td><td>31.0              </td><td>9.0               </td><td>3917.0</td><td>35.0     </td><td>Thu      </td><td>0.0               </td><td>0.0               </td><td>Autumn  </td></tr>\n",
       "<tr><td>7      </td><td>63367296.0       </td><td>ID       </td><td>47.0     </td><td>M            </td><td>Generic  </td><td>android_webkit</td><td>Android</td><td>             </td><td>120.188.84.62  </td><td>55           </td><td>                </td><td>13960.0               </td><td>0.0    </td><td>1.0                 </td><td>1.0                 </td><td>1.0                </td><td>1.0                </td><td>1.0                </td><td>31.0              </td><td>9.0               </td><td>3917.0</td><td>35.0     </td><td>Thu      </td><td>0.0               </td><td>0.0               </td><td>Autumn  </td></tr>\n",
       "<tr><td>8      </td><td>63367297.0       </td><td>ID       </td><td>46.0     </td><td>M            </td><td>Generic  </td><td>android_webkit</td><td>Android</td><td>             </td><td>112.215.244.33 </td><td>1306         </td><td>                </td><td>2024.0                </td><td>0.0    </td><td>1.0                 </td><td>1.0                 </td><td>1.0                </td><td>1.0                </td><td>1.0                </td><td>31.0              </td><td>9.0               </td><td>3917.0</td><td>35.0     </td><td>Thu      </td><td>0.0               </td><td>0.0               </td><td>Autumn  </td></tr>\n",
       "<tr><td>9      </td><td>63367298.0       </td><td>US       </td><td>916.0    </td><td>             </td><td>Generic  </td><td>android_webkit</td><td>Android</td><td>             </td><td>172.58.70.188  </td><td>1306.0       </td><td>                </td><td>12345.0               </td><td>0.0    </td><td>1.0                 </td><td>0.0                 </td><td>1.0                </td><td>1.0                </td><td>1.0                </td><td>31.0              </td><td>9.0               </td><td>3917.0</td><td>35.0     </td><td>Thu      </td><td>0.0               </td><td>0.0               </td><td>Autumn  </td></tr>\n",
       "</tbody>\n",
       "</table>"
      ]
     },
     "metadata": {},
     "output_type": "display_data"
    }
   ],
   "source": [
    "def refine_date_col(data, col, pattern):\n",
    "    data[col]         = data[col].as_date(pattern) # As of 5/29/2106 H2O defaults parse as a date\n",
    "    data[\"Day\"]       = data[col].day()\n",
    "    data[\"Month\"]     = data[col].month() + 1     # Since H2O indexes from 0\n",
    "    data[\"Year\"]      = data[col].year() + 1900   # Start of epoch is 1900\n",
    "    data[\"WeekNum\"]   = data[col].week()\n",
    "    data[\"WeekDay\"]   = data[col].dayOfWeek()\n",
    "    data[\"HourOfDay\"] = data[col].hour()\n",
    "    \n",
    "    data.describe()  # HACK: Force evaluation before ifelse and cut. See PUBDEV-1425.\n",
    "    \n",
    "    # Create weekend and season cols\n",
    "    # Spring = Mar, Apr, May. Summer = Jun, Jul, Aug. Autumn = Sep, Oct. Winter = Nov, Dec, Jan, Feb.\n",
    "    # data[\"Weekend\"]   = [1 if x in (\"Sun\", \"Sat\") else 0 for x in data[\"WeekDay\"]]\n",
    "    data[\"Weekend\"] = ((data[\"WeekDay\"] == \"Sun\") | (data[\"WeekDay\"] == \"Sat\"))\n",
    "    data[\"Season\"] = data[\"Month\"].cut([0, 2, 5, 7, 10, 12], [\"Winter\", \"Spring\", \"Summer\", \"Autumn\", \"Winter\"])\n",
    "    \n",
    "refine_date_col(test, \"ClickDate\", \"%Y-%m-%d %H:%M:%S\")\n",
    "test = test.drop(\"ClickDate\")\n",
    "test.describe()"
   ]
  },
  {
   "cell_type": "code",
   "execution_count": 66,
   "metadata": {},
   "outputs": [
    {
     "data": {
      "text/html": [
       "<table>\n",
       "<thead>\n",
       "<tr><th style=\"text-align: right;\">         ID</th><th>Country  </th><th style=\"text-align: right;\">  Carrier</th><th>TrafficType  </th><th>Device   </th><th>Browser       </th><th>OS     </th><th>RefererUrl   </th><th>UserIp         </th><th style=\"text-align: right;\">  publisherId</th><th>subPublisherId  </th><th style=\"text-align: right;\">  advertiserCampaignId</th><th style=\"text-align: right;\">  Fraud</th><th style=\"text-align: right;\">  CountryMissing</th><th style=\"text-align: right;\">  TrafficTypeMissing</th><th style=\"text-align: right;\">  DeviceMissing</th><th style=\"text-align: right;\">  BrowserMissing</th><th style=\"text-align: right;\">  OSMissing</th><th style=\"text-align: right;\">  Day</th><th style=\"text-align: right;\">  Month</th><th style=\"text-align: right;\">  Year</th><th style=\"text-align: right;\">  WeekNum</th><th>WeekDay  </th><th style=\"text-align: right;\">  HourOfDay</th><th style=\"text-align: right;\">  Weekend</th><th>Season  </th></tr>\n",
       "</thead>\n",
       "<tbody>\n",
       "<tr><td style=\"text-align: right;\">6.33673e+07</td><td>IN       </td><td style=\"text-align: right;\">        5</td><td>             </td><td>Generic  </td><td>uc            </td><td>Android</td><td>             </td><td>101.58.211.15  </td><td style=\"text-align: right;\">         1479</td><td>                </td><td style=\"text-align: right;\">                 16216</td><td style=\"text-align: right;\">      0</td><td style=\"text-align: right;\">               1</td><td style=\"text-align: right;\">                   0</td><td style=\"text-align: right;\">              1</td><td style=\"text-align: right;\">               1</td><td style=\"text-align: right;\">          1</td><td style=\"text-align: right;\">   31</td><td style=\"text-align: right;\">      9</td><td style=\"text-align: right;\">  3917</td><td style=\"text-align: right;\">       35</td><td>Thu      </td><td style=\"text-align: right;\">          0</td><td style=\"text-align: right;\">        0</td><td>Autumn  </td></tr>\n",
       "<tr><td style=\"text-align: right;\">6.33673e+07</td><td>IN       </td><td style=\"text-align: right;\">        2</td><td>M            </td><td>Datawind </td><td>chrome        </td><td>Android</td><td>             </td><td>42.107.175.145 </td><td style=\"text-align: right;\">         3734</td><td>                </td><td style=\"text-align: right;\">                  1836</td><td style=\"text-align: right;\">      0</td><td style=\"text-align: right;\">               1</td><td style=\"text-align: right;\">                   1</td><td style=\"text-align: right;\">              1</td><td style=\"text-align: right;\">               1</td><td style=\"text-align: right;\">          1</td><td style=\"text-align: right;\">   31</td><td style=\"text-align: right;\">      9</td><td style=\"text-align: right;\">  3917</td><td style=\"text-align: right;\">       35</td><td>Thu      </td><td style=\"text-align: right;\">          0</td><td style=\"text-align: right;\">        0</td><td>Autumn  </td></tr>\n",
       "<tr><td style=\"text-align: right;\">6.33673e+07</td><td>IN       </td><td style=\"text-align: right;\">        1</td><td>A            </td><td>Panasonic</td><td>chrome        </td><td>Android</td><td>synctraff.com</td><td>106.223.85.251 </td><td style=\"text-align: right;\">          282</td><td>                </td><td style=\"text-align: right;\">                 13431</td><td style=\"text-align: right;\">      0</td><td style=\"text-align: right;\">               1</td><td style=\"text-align: right;\">                   1</td><td style=\"text-align: right;\">              1</td><td style=\"text-align: right;\">               1</td><td style=\"text-align: right;\">          1</td><td style=\"text-align: right;\">   31</td><td style=\"text-align: right;\">      9</td><td style=\"text-align: right;\">  3917</td><td style=\"text-align: right;\">       35</td><td>Thu      </td><td style=\"text-align: right;\">          0</td><td style=\"text-align: right;\">        0</td><td>Autumn  </td></tr>\n",
       "<tr><td style=\"text-align: right;\">6.33673e+07</td><td>BR       </td><td style=\"text-align: right;\">       -1</td><td>M            </td><td>Generic  </td><td>android_webkit</td><td>Android</td><td>             </td><td>177.35.22.162  </td><td style=\"text-align: right;\">         1203</td><td>                </td><td style=\"text-align: right;\">                  4787</td><td style=\"text-align: right;\">      0</td><td style=\"text-align: right;\">               1</td><td style=\"text-align: right;\">                   1</td><td style=\"text-align: right;\">              1</td><td style=\"text-align: right;\">               1</td><td style=\"text-align: right;\">          1</td><td style=\"text-align: right;\">   31</td><td style=\"text-align: right;\">      9</td><td style=\"text-align: right;\">  3917</td><td style=\"text-align: right;\">       35</td><td>Thu      </td><td style=\"text-align: right;\">          0</td><td style=\"text-align: right;\">        0</td><td>Autumn  </td></tr>\n",
       "<tr><td style=\"text-align: right;\">6.33673e+07</td><td>IN       </td><td style=\"text-align: right;\">        3</td><td>A            </td><td>Micromax </td><td>chrome        </td><td>Android</td><td>             </td><td>101.210.255.232</td><td style=\"text-align: right;\">          597</td><td>                </td><td style=\"text-align: right;\">                  9769</td><td style=\"text-align: right;\">      0</td><td style=\"text-align: right;\">               1</td><td style=\"text-align: right;\">                   1</td><td style=\"text-align: right;\">              1</td><td style=\"text-align: right;\">               1</td><td style=\"text-align: right;\">          1</td><td style=\"text-align: right;\">   31</td><td style=\"text-align: right;\">      9</td><td style=\"text-align: right;\">  3917</td><td style=\"text-align: right;\">       35</td><td>Thu      </td><td style=\"text-align: right;\">          0</td><td style=\"text-align: right;\">        0</td><td>Autumn  </td></tr>\n",
       "<tr><td style=\"text-align: right;\">6.33673e+07</td><td>BD       </td><td style=\"text-align: right;\">       45</td><td>             </td><td>Symphony </td><td>46.0.2490.76  </td><td>Android</td><td>             </td><td>103.67.158.77  </td><td style=\"text-align: right;\">         1306</td><td>                </td><td style=\"text-align: right;\">                 10227</td><td style=\"text-align: right;\">      0</td><td style=\"text-align: right;\">               1</td><td style=\"text-align: right;\">                   0</td><td style=\"text-align: right;\">              1</td><td style=\"text-align: right;\">               1</td><td style=\"text-align: right;\">          1</td><td style=\"text-align: right;\">   31</td><td style=\"text-align: right;\">      9</td><td style=\"text-align: right;\">  3917</td><td style=\"text-align: right;\">       35</td><td>Thu      </td><td style=\"text-align: right;\">          0</td><td style=\"text-align: right;\">        0</td><td>Autumn  </td></tr>\n",
       "<tr><td style=\"text-align: right;\">6.33673e+07</td><td>RU       </td><td style=\"text-align: right;\">       -1</td><td>A            </td><td>Micromax </td><td>46.0.2490.76  </td><td>Android</td><td>             </td><td>46.146.8.55    </td><td style=\"text-align: right;\">           55</td><td>                </td><td style=\"text-align: right;\">                 11225</td><td style=\"text-align: right;\">      0</td><td style=\"text-align: right;\">               1</td><td style=\"text-align: right;\">                   1</td><td style=\"text-align: right;\">              1</td><td style=\"text-align: right;\">               1</td><td style=\"text-align: right;\">          1</td><td style=\"text-align: right;\">   31</td><td style=\"text-align: right;\">      9</td><td style=\"text-align: right;\">  3917</td><td style=\"text-align: right;\">       35</td><td>Thu      </td><td style=\"text-align: right;\">          0</td><td style=\"text-align: right;\">        0</td><td>Autumn  </td></tr>\n",
       "<tr><td style=\"text-align: right;\">6.33673e+07</td><td>ID       </td><td style=\"text-align: right;\">       47</td><td>M            </td><td>Generic  </td><td>android_webkit</td><td>Android</td><td>             </td><td>120.188.84.62  </td><td style=\"text-align: right;\">           55</td><td>                </td><td style=\"text-align: right;\">                 13960</td><td style=\"text-align: right;\">      0</td><td style=\"text-align: right;\">               1</td><td style=\"text-align: right;\">                   1</td><td style=\"text-align: right;\">              1</td><td style=\"text-align: right;\">               1</td><td style=\"text-align: right;\">          1</td><td style=\"text-align: right;\">   31</td><td style=\"text-align: right;\">      9</td><td style=\"text-align: right;\">  3917</td><td style=\"text-align: right;\">       35</td><td>Thu      </td><td style=\"text-align: right;\">          0</td><td style=\"text-align: right;\">        0</td><td>Autumn  </td></tr>\n",
       "<tr><td style=\"text-align: right;\">6.33673e+07</td><td>ID       </td><td style=\"text-align: right;\">       46</td><td>M            </td><td>Generic  </td><td>android_webkit</td><td>Android</td><td>             </td><td>112.215.244.33 </td><td style=\"text-align: right;\">         1306</td><td>                </td><td style=\"text-align: right;\">                  2024</td><td style=\"text-align: right;\">      0</td><td style=\"text-align: right;\">               1</td><td style=\"text-align: right;\">                   1</td><td style=\"text-align: right;\">              1</td><td style=\"text-align: right;\">               1</td><td style=\"text-align: right;\">          1</td><td style=\"text-align: right;\">   31</td><td style=\"text-align: right;\">      9</td><td style=\"text-align: right;\">  3917</td><td style=\"text-align: right;\">       35</td><td>Thu      </td><td style=\"text-align: right;\">          0</td><td style=\"text-align: right;\">        0</td><td>Autumn  </td></tr>\n",
       "<tr><td style=\"text-align: right;\">6.33673e+07</td><td>US       </td><td style=\"text-align: right;\">      916</td><td>             </td><td>Generic  </td><td>android_webkit</td><td>Android</td><td>             </td><td>172.58.70.188  </td><td style=\"text-align: right;\">         1306</td><td>                </td><td style=\"text-align: right;\">                 12345</td><td style=\"text-align: right;\">      0</td><td style=\"text-align: right;\">               1</td><td style=\"text-align: right;\">                   0</td><td style=\"text-align: right;\">              1</td><td style=\"text-align: right;\">               1</td><td style=\"text-align: right;\">          1</td><td style=\"text-align: right;\">   31</td><td style=\"text-align: right;\">      9</td><td style=\"text-align: right;\">  3917</td><td style=\"text-align: right;\">       35</td><td>Thu      </td><td style=\"text-align: right;\">          0</td><td style=\"text-align: right;\">        0</td><td>Autumn  </td></tr>\n",
       "</tbody>\n",
       "</table>"
      ]
     },
     "metadata": {},
     "output_type": "display_data"
    },
    {
     "data": {
      "text/plain": []
     },
     "execution_count": 66,
     "metadata": {},
     "output_type": "execute_result"
    }
   ],
   "source": [
    "test"
   ]
  },
  {
   "cell_type": "code",
   "execution_count": 69,
   "metadata": {},
   "outputs": [
    {
     "name": "stdout",
     "output_type": "stream",
     "text": [
      "Rows:25548873\n",
      "Cols:24\n",
      "\n",
      "\n"
     ]
    },
    {
     "data": {
      "text/html": [
       "<table>\n",
       "<thead>\n",
       "<tr><th>       </th><th>ID               </th><th>Country  </th><th>Carrier  </th><th>TrafficType  </th><th>Device   </th><th>Browser       </th><th>OS     </th><th>UserIp         </th><th>publisherId  </th><th>advertiserCampaignId  </th><th>Fraud  </th><th>CountryMissing      </th><th>TrafficTypeMissing  </th><th>DeviceMissing      </th><th>BrowserMissing     </th><th>OSMissing          </th><th>Day               </th><th>Month             </th><th>Year  </th><th>WeekNum  </th><th>WeekDay  </th><th>HourOfDay         </th><th>Weekend           </th><th>Season  </th></tr>\n",
       "</thead>\n",
       "<tbody>\n",
       "<tr><td>type   </td><td>int              </td><td>enum     </td><td>string   </td><td>enum         </td><td>enum     </td><td>enum          </td><td>enum   </td><td>string         </td><td>enum         </td><td>enum                  </td><td>enum   </td><td>int                 </td><td>int                 </td><td>int                </td><td>int                </td><td>int                </td><td>int               </td><td>int               </td><td>int   </td><td>int      </td><td>enum     </td><td>int               </td><td>int               </td><td>enum    </td></tr>\n",
       "<tr><td>mins   </td><td>63367289.0       </td><td>         </td><td>NaN      </td><td>             </td><td>         </td><td>              </td><td>       </td><td>NaN            </td><td>             </td><td>                      </td><td>       </td><td>0.0                 </td><td>0.0                 </td><td>0.0                </td><td>0.0                </td><td>0.0                </td><td>1.0               </td><td>9.0               </td><td>3917.0</td><td>35.0     </td><td>         </td><td>0.0               </td><td>0.0               </td><td>        </td></tr>\n",
       "<tr><td>mean   </td><td>76141725.0       </td><td>         </td><td>NaN      </td><td>             </td><td>         </td><td>              </td><td>       </td><td>NaN            </td><td>             </td><td>                      </td><td>       </td><td>0.9997809296715358  </td><td>0.796449769036779   </td><td>0.9978568917697466 </td><td>0.9962779962936135 </td><td>0.9947876370124037 </td><td>8.862143703951254 </td><td>9.763068414015756 </td><td>3917.0</td><td>35.0     </td><td>         </td><td>12.440915652130725</td><td>0.5068389122291226</td><td>        </td></tr>\n",
       "<tr><td>maxs   </td><td>88916161.0       </td><td>         </td><td>NaN      </td><td>             </td><td>         </td><td>              </td><td>       </td><td>NaN            </td><td>             </td><td>                      </td><td>       </td><td>1.0                 </td><td>1.0                 </td><td>1.0                </td><td>1.0                </td><td>1.0                </td><td>31.0              </td><td>10.0              </td><td>3917.0</td><td>35.0     </td><td>         </td><td>23.0              </td><td>1.0               </td><td>        </td></tr>\n",
       "<tr><td>sigma  </td><td>7375324.496358347</td><td>         </td><td>NaN      </td><td>             </td><td>         </td><td>              </td><td>       </td><td>NaN            </td><td>             </td><td>                      </td><td>       </td><td>0.014799403542983168</td><td>0.4026382256858252  </td><td>0.04624408503873537</td><td>0.06089458547305925</td><td>0.07200829440164433</td><td>12.356133711190422</td><td>0.4251999725113753</td><td>0.0   </td><td>0.0      </td><td>         </td><td>6.850438040764894 </td><td>0.4999532368760698</td><td>        </td></tr>\n",
       "<tr><td>zeros  </td><td>0                </td><td>         </td><td>0        </td><td>             </td><td>         </td><td>              </td><td>       </td><td>0              </td><td>             </td><td>                      </td><td>       </td><td>5597                </td><td>5200479             </td><td>54754              </td><td>95093              </td><td>133170             </td><td>0                 </td><td>0                 </td><td>0     </td><td>0        </td><td>         </td><td>1091449           </td><td>12599710          </td><td>        </td></tr>\n",
       "<tr><td>missing</td><td>0                </td><td>9038     </td><td>0        </td><td>5200479      </td><td>54754    </td><td>95093         </td><td>133170 </td><td>0              </td><td>152          </td><td>398                   </td><td>0      </td><td>0                   </td><td>0                   </td><td>0                  </td><td>0                  </td><td>0                  </td><td>0                 </td><td>0                 </td><td>0     </td><td>0        </td><td>0        </td><td>0                 </td><td>0                 </td><td>0       </td></tr>\n",
       "<tr><td>0      </td><td>63367289.0       </td><td>IN       </td><td>5.0      </td><td>             </td><td>Generic  </td><td>uc            </td><td>Android</td><td>101.58.211.15  </td><td>1479         </td><td>16216.0               </td><td>0.0    </td><td>1.0                 </td><td>0.0                 </td><td>1.0                </td><td>1.0                </td><td>1.0                </td><td>31.0              </td><td>9.0               </td><td>3917.0</td><td>35.0     </td><td>Thu      </td><td>0.0               </td><td>0.0               </td><td>Autumn  </td></tr>\n",
       "<tr><td>1      </td><td>63367290.0       </td><td>IN       </td><td>2.0      </td><td>M            </td><td>Datawind </td><td>chrome        </td><td>Android</td><td>42.107.175.145 </td><td>3734         </td><td>1836.0                </td><td>0.0    </td><td>1.0                 </td><td>1.0                 </td><td>1.0                </td><td>1.0                </td><td>1.0                </td><td>31.0              </td><td>9.0               </td><td>3917.0</td><td>35.0     </td><td>Thu      </td><td>0.0               </td><td>0.0               </td><td>Autumn  </td></tr>\n",
       "<tr><td>2      </td><td>63367291.0       </td><td>IN       </td><td>1.0      </td><td>A            </td><td>Panasonic</td><td>chrome        </td><td>Android</td><td>106.223.85.251 </td><td>282.0        </td><td>13431.0               </td><td>0.0    </td><td>1.0                 </td><td>1.0                 </td><td>1.0                </td><td>1.0                </td><td>1.0                </td><td>31.0              </td><td>9.0               </td><td>3917.0</td><td>35.0     </td><td>Thu      </td><td>0.0               </td><td>0.0               </td><td>Autumn  </td></tr>\n",
       "<tr><td>3      </td><td>63367292.0       </td><td>BR       </td><td>-1.0     </td><td>M            </td><td>Generic  </td><td>android_webkit</td><td>Android</td><td>177.35.22.162  </td><td>1203         </td><td>4787.0                </td><td>0.0    </td><td>1.0                 </td><td>1.0                 </td><td>1.0                </td><td>1.0                </td><td>1.0                </td><td>31.0              </td><td>9.0               </td><td>3917.0</td><td>35.0     </td><td>Thu      </td><td>0.0               </td><td>0.0               </td><td>Autumn  </td></tr>\n",
       "<tr><td>4      </td><td>63367293.0       </td><td>IN       </td><td>3.0      </td><td>A            </td><td>Micromax </td><td>chrome        </td><td>Android</td><td>101.210.255.232</td><td>597.0        </td><td>9769.0                </td><td>0.0    </td><td>1.0                 </td><td>1.0                 </td><td>1.0                </td><td>1.0                </td><td>1.0                </td><td>31.0              </td><td>9.0               </td><td>3917.0</td><td>35.0     </td><td>Thu      </td><td>0.0               </td><td>0.0               </td><td>Autumn  </td></tr>\n",
       "<tr><td>5      </td><td>63367294.0       </td><td>BD       </td><td>45.0     </td><td>             </td><td>Symphony </td><td>46.0.2490.76  </td><td>Android</td><td>103.67.158.77  </td><td>1306         </td><td>10227.0               </td><td>0.0    </td><td>1.0                 </td><td>0.0                 </td><td>1.0                </td><td>1.0                </td><td>1.0                </td><td>31.0              </td><td>9.0               </td><td>3917.0</td><td>35.0     </td><td>Thu      </td><td>0.0               </td><td>0.0               </td><td>Autumn  </td></tr>\n",
       "<tr><td>6      </td><td>63367295.0       </td><td>RU       </td><td>-1.0     </td><td>A            </td><td>Micromax </td><td>46.0.2490.76  </td><td>Android</td><td>46.146.8.55    </td><td>55           </td><td>11225.0               </td><td>0.0    </td><td>1.0                 </td><td>1.0                 </td><td>1.0                </td><td>1.0                </td><td>1.0                </td><td>31.0              </td><td>9.0               </td><td>3917.0</td><td>35.0     </td><td>Thu      </td><td>0.0               </td><td>0.0               </td><td>Autumn  </td></tr>\n",
       "<tr><td>7      </td><td>63367296.0       </td><td>ID       </td><td>47.0     </td><td>M            </td><td>Generic  </td><td>android_webkit</td><td>Android</td><td>120.188.84.62  </td><td>55           </td><td>13960.0               </td><td>0.0    </td><td>1.0                 </td><td>1.0                 </td><td>1.0                </td><td>1.0                </td><td>1.0                </td><td>31.0              </td><td>9.0               </td><td>3917.0</td><td>35.0     </td><td>Thu      </td><td>0.0               </td><td>0.0               </td><td>Autumn  </td></tr>\n",
       "<tr><td>8      </td><td>63367297.0       </td><td>ID       </td><td>46.0     </td><td>M            </td><td>Generic  </td><td>android_webkit</td><td>Android</td><td>112.215.244.33 </td><td>1306         </td><td>2024.0                </td><td>0.0    </td><td>1.0                 </td><td>1.0                 </td><td>1.0                </td><td>1.0                </td><td>1.0                </td><td>31.0              </td><td>9.0               </td><td>3917.0</td><td>35.0     </td><td>Thu      </td><td>0.0               </td><td>0.0               </td><td>Autumn  </td></tr>\n",
       "<tr><td>9      </td><td>63367298.0       </td><td>US       </td><td>916.0    </td><td>             </td><td>Generic  </td><td>android_webkit</td><td>Android</td><td>172.58.70.188  </td><td>1306.0       </td><td>12345.0               </td><td>0.0    </td><td>1.0                 </td><td>0.0                 </td><td>1.0                </td><td>1.0                </td><td>1.0                </td><td>31.0              </td><td>9.0               </td><td>3917.0</td><td>35.0     </td><td>Thu      </td><td>0.0               </td><td>0.0               </td><td>Autumn  </td></tr>\n",
       "</tbody>\n",
       "</table>"
      ]
     },
     "metadata": {},
     "output_type": "display_data"
    }
   ],
   "source": [
    "test.describe()"
   ]
  },
  {
   "cell_type": "code",
   "execution_count": null,
   "metadata": {},
   "outputs": [],
   "source": []
  },
  {
   "cell_type": "code",
   "execution_count": 76,
   "metadata": {},
   "outputs": [],
   "source": [
    "# ----------\n",
    "# 3- Fit a model on train; using test as validation\n",
    "\n",
    "# Function for doing class test/train/holdout split\n",
    "def split_fit_predict(data):\n",
    "  global gbm0,drf0,glm0,dl0\n",
    "  # Classic Test/Train split\n",
    "  r = data['ID'].runif()   # Random UNIForm numbers, one per row\n",
    "  train = data[  r  < 0.6]\n",
    "  test  = data[(0.6 <= r) & (r < 0.9)]\n",
    "  hold  = data[ 0.9 <= r ]\n",
    "  print(\"Training data has\",train.ncol,\"columns and\",train.nrow,\"rows, test has\",test.nrow,\"rows, holdout has\",hold.nrow)\n",
    "  avclickprednames_x = data.names\n",
    "  avclickprednames_x.remove(\"ConversionPayOut\")\n",
    "  avclickprednames_x.remove(\"ID\")\n",
    "  # Run GBM\n",
    "  s = time.time()\n",
    "  \n",
    "  gbm0 = H2OGradientBoostingEstimator(ntrees=500, # 500 works well\n",
    "                                      max_depth=6,\n",
    "                                      learn_rate=0.1)\n",
    "    \n",
    "\n",
    "  gbm0.train(x               =avclickprednames_x,\n",
    "             y               =\"ConversionPayOut\",\n",
    "             training_frame  =train,\n",
    "             validation_frame=test)\n",
    "\n",
    "  gbm_elapsed = time.time() - s\n",
    "\n",
    "  # Run DRF\n",
    "  s = time.time()\n",
    "    \n",
    "  drf0 = H2ORandomForestEstimator(ntrees=250, max_depth=30)\n",
    "\n",
    "  drf0.train(x               =avclickprednames_x,\n",
    "             y               =\"ConversionPayOut\",\n",
    "             training_frame  =train,\n",
    "             validation_frame=test)\n",
    "    \n",
    "  drf_elapsed = time.time() - s \n",
    "    \n",
    "    \n",
    "  # Run GLM\n",
    "  #if \"WC1\" in bike_names_x: bike_names_x.remove(\"WC1\")\n",
    "  s = time.time()\n",
    "\n",
    "  glm0 = H2OGeneralizedLinearEstimator(Lambda=[1e-5], family=\"poisson\")\n",
    "    \n",
    "  glm0.train(x               =avclickprednames_x,\n",
    "             y               =\"ConversionPayOut\",\n",
    "             training_frame  =train,\n",
    "             validation_frame=test)\n",
    "\n",
    "  glm_elapsed = time.time() - s\n",
    "  \n",
    "  # Run DL\n",
    "  s = time.time()\n",
    "\n",
    "  dl0 = H2ODeepLearningEstimator(hidden=[10,10,10,10], epochs=50)\n",
    "    \n",
    "  dl0.train(x               =avclickprednames_x,\n",
    "            y               =\"ConversionPayOut\",\n",
    "            training_frame  =train,\n",
    "            validation_frame=test)\n",
    "    \n",
    "  dl_elapsed = time.time() - s\n",
    "  \n",
    "  # ----------\n",
    "  # 4- Score on holdout set & report\n",
    "  train_mse_gbm = gbm0.model_performance(train).mse()\n",
    "  test_mse_gbm  = gbm0.model_performance(test ).mse()\n",
    "  hold_mse_gbm  = gbm0.model_performance(hold ).mse()\n",
    "#   print \"GBM mse TRAIN=\",train_mse_gbm,\", mse TEST=\",test_mse_gbm,\", mse HOLDOUT=\",hold_mse_gbm\n",
    "  \n",
    "  train_mse_drf = drf0.model_performance(train).mse()\n",
    "  test_mse_drf  = drf0.model_performance(test ).mse()\n",
    "  hold_mse_drf  = drf0.model_performance(hold ).mse()\n",
    "#   print \"DRF mse TRAIN=\",train_mse_drf,\", mse TEST=\",test_mse_drf,\", mse HOLDOUT=\",hold_mse_drf\n",
    "  \n",
    "  train_mse_glm = glm0.model_performance(train).mse()\n",
    "  test_mse_glm  = glm0.model_performance(test ).mse()\n",
    "  hold_mse_glm  = glm0.model_performance(hold ).mse()\n",
    "#   print \"GLM mse TRAIN=\",train_mse_glm,\", mse TEST=\",test_mse_glm,\", mse HOLDOUT=\",hold_mse_glm\n",
    "    \n",
    "  train_mse_dl = dl0.model_performance(train).mse()\n",
    "  test_mse_dl  = dl0.model_performance(test ).mse()\n",
    "  hold_mse_dl  = dl0.model_performance(hold ).mse()\n",
    "#   print \" DL mse TRAIN=\",train_mse_dl,\", mse TEST=\",test_mse_dl,\", mse HOLDOUT=\",hold_mse_dl\n",
    "    \n",
    "  # make a pretty HTML table printout of the results\n",
    "\n",
    "  header = [\"Model\", \"mse TRAIN\", \"mse TEST\", \"mse HOLDOUT\", \"Model Training Time (s)\"]\n",
    "  table  = [\n",
    "            [\"GBM\", train_mse_gbm, test_mse_gbm, hold_mse_gbm, round(gbm_elapsed,3)],\n",
    "            [\"DRF\", train_mse_drf, test_mse_drf, hold_mse_drf, round(drf_elapsed,3)],\n",
    "            [\"GLM\", train_mse_glm, test_mse_glm, hold_mse_glm, round(glm_elapsed,3)],\n",
    "            [\"DL \", train_mse_dl,  test_mse_dl,  hold_mse_dl , round(dl_elapsed,3) ],\n",
    "           ]\n",
    "  h2o.display.H2ODisplay(table,header)\n",
    "  # --------------"
   ]
  },
  {
   "cell_type": "code",
   "execution_count": 72,
   "metadata": {},
   "outputs": [],
   "source": [
    "dd = train"
   ]
  },
  {
   "cell_type": "code",
   "execution_count": null,
   "metadata": {},
   "outputs": [],
   "source": [
    "glm0 = H2OGeneralizedLinearEstimator(Lambda=[1e-5], family=\"poisson\")\n",
    "    \n",
    "  glm0.train(x               =avclickprednames_x,\n",
    "             y               =\"ConversionPayOut\",\n",
    "             training_frame  =train,\n",
    "             validation_frame=test)\n"
   ]
  },
  {
   "cell_type": "code",
   "execution_count": 80,
   "metadata": {},
   "outputs": [
    {
     "name": "stdout",
     "output_type": "stream",
     "text": [
      "Model Details\n",
      "=============\n",
      "H2OGeneralizedLinearEstimator :  Generalized Linear Modeling\n",
      "Model Key:  GLM_model_python_1506011317762_3\n",
      "\n",
      "\n",
      "ModelMetricsRegressionGLM: glm\n",
      "** Reported on train data. **\n",
      "\n",
      "MSE: 46.12669566883413\n",
      "RMSE: 6.79166368932047\n",
      "MAE: 0.06390996033754881\n",
      "RMSLE: 0.11508928899381601\n",
      "R^2: 0.005304504253967113\n",
      "Mean Residual Deviance: 0.46059105776732145\n",
      "Null degrees of freedom: 38019910\n",
      "Residual degrees of freedom: 38019409\n",
      "Null deviance: 23376607.300322488\n",
      "Residual deviance: 17511631.02370942\n",
      "AIC: 17598975.173277967\n",
      "\n",
      "ModelMetricsRegressionGLM: glm\n",
      "** Reported on validation data. **\n",
      "\n",
      "MSE: 48.60320893450031\n",
      "RMSE: 6.971600170298086\n",
      "MAE: 0.06575745314646207\n",
      "RMSLE: 0.11573790988762478\n",
      "R^2: -0.00024192934461475524\n",
      "Mean Residual Deviance: 0.5033904393032442\n",
      "Null degrees of freedom: 19010511\n",
      "Residual degrees of freedom: 19010010\n",
      "Null deviance: 12301236.135290146\n",
      "Residual deviance: 9569709.987059595\n",
      "AIC: 9614431.037239041\n",
      "Scoring History: \n"
     ]
    },
    {
     "data": {
      "text/html": [
       "<div style=\"overflow:auto\"><table style=\"width:50%\"><tr><td><b></b></td>\n",
       "<td><b>timestamp</b></td>\n",
       "<td><b>duration</b></td>\n",
       "<td><b>iterations</b></td>\n",
       "<td><b>negative_log_likelihood</b></td>\n",
       "<td><b>objective</b></td></tr>\n",
       "<tr><td></td>\n",
       "<td>2017-09-21 19:12:20</td>\n",
       "<td> 0.000 sec</td>\n",
       "<td>0</td>\n",
       "<td>23376607.2958022</td>\n",
       "<td>0.6148517</td></tr>\n",
       "<tr><td></td>\n",
       "<td>2017-09-21 19:12:31</td>\n",
       "<td>11.430 sec</td>\n",
       "<td>1</td>\n",
       "<td>21662151.1719286</td>\n",
       "<td>0.5701414</td></tr>\n",
       "<tr><td></td>\n",
       "<td>2017-09-21 19:12:37</td>\n",
       "<td>17.030 sec</td>\n",
       "<td>2</td>\n",
       "<td>19605635.9918504</td>\n",
       "<td>0.5188371</td></tr>\n",
       "<tr><td></td>\n",
       "<td>2017-09-21 19:12:44</td>\n",
       "<td>24.302 sec</td>\n",
       "<td>3</td>\n",
       "<td>17996200.4362450</td>\n",
       "<td>0.4773787</td></tr>\n",
       "<tr><td></td>\n",
       "<td>2017-09-21 19:12:49</td>\n",
       "<td>28.528 sec</td>\n",
       "<td>4</td>\n",
       "<td>17599762.1845317</td>\n",
       "<td>0.4674633</td></tr>\n",
       "<tr><td></td>\n",
       "<td>2017-09-21 19:12:53</td>\n",
       "<td>32.770 sec</td>\n",
       "<td>5</td>\n",
       "<td>17519142.8517779</td>\n",
       "<td>0.4655724</td></tr>\n",
       "<tr><td></td>\n",
       "<td>2017-09-21 19:12:57</td>\n",
       "<td>36.933 sec</td>\n",
       "<td>6</td>\n",
       "<td>17514393.3228728</td>\n",
       "<td>0.4654644</td></tr>\n",
       "<tr><td></td>\n",
       "<td>2017-09-21 19:13:01</td>\n",
       "<td>41.121 sec</td>\n",
       "<td>7</td>\n",
       "<td>17511631.0191996</td>\n",
       "<td>0.4654100</td></tr></table></div>"
      ],
      "text/plain": [
       "    timestamp            duration    iterations    negative_log_likelihood    objective\n",
       "--  -------------------  ----------  ------------  -------------------------  -----------\n",
       "    2017-09-21 19:12:20  0.000 sec   0             2.33766e+07                0.614852\n",
       "    2017-09-21 19:12:31  11.430 sec  1             2.16622e+07                0.570141\n",
       "    2017-09-21 19:12:37  17.030 sec  2             1.96056e+07                0.518837\n",
       "    2017-09-21 19:12:44  24.302 sec  3             1.79962e+07                0.477379\n",
       "    2017-09-21 19:12:49  28.528 sec  4             1.75998e+07                0.467463\n",
       "    2017-09-21 19:12:53  32.770 sec  5             1.75191e+07                0.465572\n",
       "    2017-09-21 19:12:57  36.933 sec  6             1.75144e+07                0.465464\n",
       "    2017-09-21 19:13:01  41.121 sec  7             1.75116e+07                0.46541"
      ]
     },
     "metadata": {},
     "output_type": "display_data"
    },
    {
     "data": {
      "text/plain": []
     },
     "execution_count": 80,
     "metadata": {},
     "output_type": "execute_result"
    }
   ],
   "source": [
    "glm0"
   ]
  },
  {
   "cell_type": "code",
   "execution_count": 81,
   "metadata": {},
   "outputs": [
    {
     "name": "stdout",
     "output_type": "stream",
     "text": [
      "Model Details\n",
      "=============\n",
      "H2OGradientBoostingEstimator :  Gradient Boosting Machine\n",
      "Model Key:  GBM_model_python_1506011317762_1\n",
      "\n",
      "\n",
      "ModelMetricsRegression: gbm\n",
      "** Reported on train data. **\n",
      "\n",
      "MSE: 46.31748368263441\n",
      "RMSE: 6.8056949448703925\n",
      "MAE: 0.06400482691049321\n",
      "RMSLE: NaN\n",
      "Mean Residual Deviance: 46.31748368263441\n",
      "\n",
      "ModelMetricsRegression: gbm\n",
      "** Reported on validation data. **\n",
      "\n",
      "MSE: 48.59064526621538\n",
      "RMSE: 6.970699051473631\n",
      "MAE: 0.06570888390341172\n",
      "RMSLE: NaN\n",
      "Mean Residual Deviance: 48.59064526621538\n",
      "Scoring History: \n"
     ]
    },
    {
     "data": {
      "text/html": [
       "<div style=\"overflow:auto\"><table style=\"width:50%\"><tr><td><b></b></td>\n",
       "<td><b>timestamp</b></td>\n",
       "<td><b>duration</b></td>\n",
       "<td><b>number_of_trees</b></td>\n",
       "<td><b>training_rmse</b></td>\n",
       "<td><b>training_mae</b></td>\n",
       "<td><b>training_deviance</b></td>\n",
       "<td><b>validation_rmse</b></td>\n",
       "<td><b>validation_mae</b></td>\n",
       "<td><b>validation_deviance</b></td></tr>\n",
       "<tr><td></td>\n",
       "<td>2017-09-21 18:43:45</td>\n",
       "<td> 0.015 sec</td>\n",
       "<td>0.0</td>\n",
       "<td>6.8097489</td>\n",
       "<td>0.0640326</td>\n",
       "<td>46.3726797</td>\n",
       "<td>6.9707572</td>\n",
       "<td>0.0656942</td>\n",
       "<td>48.5914560</td></tr>\n",
       "<tr><td></td>\n",
       "<td>2017-09-21 18:44:11</td>\n",
       "<td>25.290 sec</td>\n",
       "<td>3.0</td>\n",
       "<td>6.8076913</td>\n",
       "<td>0.0640168</td>\n",
       "<td>46.3446611</td>\n",
       "<td>6.9704456</td>\n",
       "<td>0.0656951</td>\n",
       "<td>48.5871120</td></tr>\n",
       "<tr><td></td>\n",
       "<td>2017-09-21 18:44:50</td>\n",
       "<td> 1 min  4.590 sec</td>\n",
       "<td>28.0</td>\n",
       "<td>6.8056949</td>\n",
       "<td>0.0640048</td>\n",
       "<td>46.3174837</td>\n",
       "<td>6.9706991</td>\n",
       "<td>0.0657089</td>\n",
       "<td>48.5906453</td></tr>\n",
       "<tr><td></td>\n",
       "<td>2017-09-21 18:46:08</td>\n",
       "<td> 2 min 22.659 sec</td>\n",
       "<td>86.0</td>\n",
       "<td>6.8056949</td>\n",
       "<td>0.0640048</td>\n",
       "<td>46.3174837</td>\n",
       "<td>6.9706991</td>\n",
       "<td>0.0657089</td>\n",
       "<td>48.5906453</td></tr>\n",
       "<tr><td></td>\n",
       "<td>2017-09-21 18:49:13</td>\n",
       "<td> 5 min 27.390 sec</td>\n",
       "<td>223.0</td>\n",
       "<td>6.8056949</td>\n",
       "<td>0.0640048</td>\n",
       "<td>46.3174837</td>\n",
       "<td>6.9706991</td>\n",
       "<td>0.0657089</td>\n",
       "<td>48.5906453</td></tr>\n",
       "<tr><td></td>\n",
       "<td>2017-09-21 18:55:37</td>\n",
       "<td>11 min 51.343 sec</td>\n",
       "<td>500.0</td>\n",
       "<td>6.8056949</td>\n",
       "<td>0.0640048</td>\n",
       "<td>46.3174837</td>\n",
       "<td>6.9706991</td>\n",
       "<td>0.0657089</td>\n",
       "<td>48.5906453</td></tr></table></div>"
      ],
      "text/plain": [
       "    timestamp            duration           number_of_trees    training_rmse    training_mae    training_deviance    validation_rmse    validation_mae    validation_deviance\n",
       "--  -------------------  -----------------  -----------------  ---------------  --------------  -------------------  -----------------  ----------------  ---------------------\n",
       "    2017-09-21 18:43:45  0.015 sec          0                  6.80975          0.0640326       46.3727              6.97076            0.0656942         48.5915\n",
       "    2017-09-21 18:44:11  25.290 sec         3                  6.80769          0.0640168       46.3447              6.97045            0.0656951         48.5871\n",
       "    2017-09-21 18:44:50  1 min  4.590 sec   28                 6.80569          0.0640048       46.3175              6.9707             0.0657089         48.5906\n",
       "    2017-09-21 18:46:08  2 min 22.659 sec   86                 6.80569          0.0640048       46.3175              6.9707             0.0657089         48.5906\n",
       "    2017-09-21 18:49:13  5 min 27.390 sec   223                6.80569          0.0640048       46.3175              6.9707             0.0657089         48.5906\n",
       "    2017-09-21 18:55:37  11 min 51.343 sec  500                6.80569          0.0640048       46.3175              6.9707             0.0657089         48.5906"
      ]
     },
     "metadata": {},
     "output_type": "display_data"
    },
    {
     "name": "stdout",
     "output_type": "stream",
     "text": [
      "Variable Importances: \n"
     ]
    },
    {
     "data": {
      "text/html": [
       "<div style=\"overflow:auto\"><table style=\"width:50%\"><tr><td><b>variable</b></td>\n",
       "<td><b>relative_importance</b></td>\n",
       "<td><b>scaled_importance</b></td>\n",
       "<td><b>percentage</b></td></tr>\n",
       "<tr><td>WeekDay</td>\n",
       "<td>4055014.0</td>\n",
       "<td>1.0</td>\n",
       "<td>0.3671358</td></tr>\n",
       "<tr><td>publisherId</td>\n",
       "<td>1778146.7500000</td>\n",
       "<td>0.4385057</td>\n",
       "<td>0.1609912</td></tr>\n",
       "<tr><td>Device</td>\n",
       "<td>1414131.2500000</td>\n",
       "<td>0.3487365</td>\n",
       "<td>0.1280336</td></tr>\n",
       "<tr><td>HourOfDay</td>\n",
       "<td>1337111.5</td>\n",
       "<td>0.3297428</td>\n",
       "<td>0.1210604</td></tr>\n",
       "<tr><td>advertiserCampaignId</td>\n",
       "<td>920232.0625000</td>\n",
       "<td>0.2269368</td>\n",
       "<td>0.0833166</td></tr>\n",
       "<tr><td>Browser</td>\n",
       "<td>406388.7812500</td>\n",
       "<td>0.1002188</td>\n",
       "<td>0.0367939</td></tr>\n",
       "<tr><td>Day</td>\n",
       "<td>391504.0</td>\n",
       "<td>0.0965481</td>\n",
       "<td>0.0354463</td></tr>\n",
       "<tr><td>TrafficTypeMissing</td>\n",
       "<td>263466.25</td>\n",
       "<td>0.0649730</td>\n",
       "<td>0.0238539</td></tr>\n",
       "<tr><td>Country</td>\n",
       "<td>246168.2656250</td>\n",
       "<td>0.0607071</td>\n",
       "<td>0.0222878</td></tr>\n",
       "<tr><td>TrafficType</td>\n",
       "<td>232603.5312500</td>\n",
       "<td>0.0573620</td>\n",
       "<td>0.0210596</td></tr>\n",
       "<tr><td>Weekend</td>\n",
       "<td>219.9175110</td>\n",
       "<td>0.0000542</td>\n",
       "<td>0.0000199</td></tr>\n",
       "<tr><td>OS</td>\n",
       "<td>10.4995422</td>\n",
       "<td>0.0000026</td>\n",
       "<td>0.0000010</td></tr>\n",
       "<tr><td>Fraud</td>\n",
       "<td>0.0</td>\n",
       "<td>0.0</td>\n",
       "<td>0.0</td></tr>\n",
       "<tr><td>CountryMissing</td>\n",
       "<td>0.0</td>\n",
       "<td>0.0</td>\n",
       "<td>0.0</td></tr>\n",
       "<tr><td>DeviceMissing</td>\n",
       "<td>0.0</td>\n",
       "<td>0.0</td>\n",
       "<td>0.0</td></tr>\n",
       "<tr><td>BrowserMissing</td>\n",
       "<td>0.0</td>\n",
       "<td>0.0</td>\n",
       "<td>0.0</td></tr>\n",
       "<tr><td>OSMissing</td>\n",
       "<td>0.0</td>\n",
       "<td>0.0</td>\n",
       "<td>0.0</td></tr>\n",
       "<tr><td>WeekNum</td>\n",
       "<td>0.0</td>\n",
       "<td>0.0</td>\n",
       "<td>0.0</td></tr></table></div>"
      ],
      "text/plain": [
       "variable              relative_importance    scaled_importance    percentage\n",
       "--------------------  ---------------------  -------------------  ------------\n",
       "WeekDay               4.05501e+06            1                    0.367136\n",
       "publisherId           1.77815e+06            0.438506             0.160991\n",
       "Device                1.41413e+06            0.348736             0.128034\n",
       "HourOfDay             1.33711e+06            0.329743             0.12106\n",
       "advertiserCampaignId  920232                 0.226937             0.0833166\n",
       "Browser               406389                 0.100219             0.0367939\n",
       "Day                   391504                 0.0965481            0.0354463\n",
       "TrafficTypeMissing    263466                 0.064973             0.0238539\n",
       "Country               246168                 0.0607071            0.0222878\n",
       "TrafficType           232604                 0.057362             0.0210596\n",
       "Weekend               219.918                5.42335e-05          1.99111e-05\n",
       "OS                    10.4995                2.58927e-06          9.50615e-07\n",
       "Fraud                 0                      0                    0\n",
       "CountryMissing        0                      0                    0\n",
       "DeviceMissing         0                      0                    0\n",
       "BrowserMissing        0                      0                    0\n",
       "OSMissing             0                      0                    0\n",
       "WeekNum               0                      0                    0"
      ]
     },
     "metadata": {},
     "output_type": "display_data"
    },
    {
     "data": {
      "text/plain": []
     },
     "execution_count": 81,
     "metadata": {},
     "output_type": "execute_result"
    }
   ],
   "source": [
    "gbm0"
   ]
  },
  {
   "cell_type": "code",
   "execution_count": 82,
   "metadata": {},
   "outputs": [
    {
     "name": "stdout",
     "output_type": "stream",
     "text": [
      "Model Details\n",
      "=============\n",
      "H2ORandomForestEstimator :  Distributed Random Forest\n",
      "Model Key:  DRF_model_python_1506011317762_2\n",
      "\n",
      "\n",
      "ModelMetricsRegression: drf\n",
      "** Reported on train data. **\n",
      "\n",
      "MSE: 46.411636607418465\n",
      "RMSE: 6.812608649219363\n",
      "MAE: 0.0640074640068397\n",
      "RMSLE: 0.07558442622454105\n",
      "Mean Residual Deviance: 46.411636607418465\n",
      "\n",
      "ModelMetricsRegression: drf\n",
      "** Reported on validation data. **\n",
      "\n",
      "MSE: 48.64824670872802\n",
      "RMSE: 6.974829511086849\n",
      "MAE: 0.06575510863758963\n",
      "RMSLE: 0.07627097969901725\n",
      "Mean Residual Deviance: 48.64824670872802\n",
      "Scoring History: \n"
     ]
    },
    {
     "data": {
      "text/html": [
       "<div style=\"overflow:auto\"><table style=\"width:50%\"><tr><td><b></b></td>\n",
       "<td><b>timestamp</b></td>\n",
       "<td><b>duration</b></td>\n",
       "<td><b>number_of_trees</b></td>\n",
       "<td><b>training_rmse</b></td>\n",
       "<td><b>training_mae</b></td>\n",
       "<td><b>training_deviance</b></td>\n",
       "<td><b>validation_rmse</b></td>\n",
       "<td><b>validation_mae</b></td>\n",
       "<td><b>validation_deviance</b></td></tr>\n",
       "<tr><td></td>\n",
       "<td>2017-09-21 18:57:20</td>\n",
       "<td> 0.007 sec</td>\n",
       "<td>0.0</td>\n",
       "<td>nan</td>\n",
       "<td>nan</td>\n",
       "<td>nan</td>\n",
       "<td>nan</td>\n",
       "<td>nan</td>\n",
       "<td>nan</td></tr>\n",
       "<tr><td></td>\n",
       "<td>2017-09-21 18:57:23</td>\n",
       "<td> 2.894 sec</td>\n",
       "<td>1.0</td>\n",
       "<td>6.4417222</td>\n",
       "<td>0.0644708</td>\n",
       "<td>41.4957848</td>\n",
       "<td>6.9707572</td>\n",
       "<td>0.0656942</td>\n",
       "<td>48.5914560</td></tr>\n",
       "<tr><td></td>\n",
       "<td>2017-09-21 18:57:39</td>\n",
       "<td>18.948 sec</td>\n",
       "<td>4.0</td>\n",
       "<td>6.8258185</td>\n",
       "<td>0.0641423</td>\n",
       "<td>46.5917980</td>\n",
       "<td>6.9876073</td>\n",
       "<td>0.0656613</td>\n",
       "<td>48.8266556</td></tr>\n",
       "<tr><td></td>\n",
       "<td>2017-09-21 18:58:05</td>\n",
       "<td>44.576 sec</td>\n",
       "<td>11.0</td>\n",
       "<td>6.8283979</td>\n",
       "<td>0.0641023</td>\n",
       "<td>46.6270180</td>\n",
       "<td>6.9811404</td>\n",
       "<td>0.0658081</td>\n",
       "<td>48.7363217</td></tr>\n",
       "<tr><td></td>\n",
       "<td>2017-09-21 18:58:50</td>\n",
       "<td> 1 min 30.019 sec</td>\n",
       "<td>27.0</td>\n",
       "<td>6.8247766</td>\n",
       "<td>0.0641278</td>\n",
       "<td>46.5775755</td>\n",
       "<td>6.9790859</td>\n",
       "<td>0.0658414</td>\n",
       "<td>48.7076395</td></tr>\n",
       "<tr><td></td>\n",
       "<td>2017-09-21 19:00:16</td>\n",
       "<td> 2 min 55.973 sec</td>\n",
       "<td>47.0</td>\n",
       "<td>6.8213037</td>\n",
       "<td>0.0640833</td>\n",
       "<td>46.5301842</td>\n",
       "<td>6.9809690</td>\n",
       "<td>0.0658491</td>\n",
       "<td>48.7339275</td></tr>\n",
       "<tr><td></td>\n",
       "<td>2017-09-21 19:02:33</td>\n",
       "<td> 5 min 13.046 sec</td>\n",
       "<td>89.0</td>\n",
       "<td>6.8158357</td>\n",
       "<td>0.0640137</td>\n",
       "<td>46.4556162</td>\n",
       "<td>6.9775746</td>\n",
       "<td>0.0658010</td>\n",
       "<td>48.6865475</td></tr>\n",
       "<tr><td></td>\n",
       "<td>2017-09-21 19:06:31</td>\n",
       "<td> 9 min 11.405 sec</td>\n",
       "<td>167.0</td>\n",
       "<td>6.8129519</td>\n",
       "<td>0.0640116</td>\n",
       "<td>46.4163133</td>\n",
       "<td>6.9749202</td>\n",
       "<td>0.0657567</td>\n",
       "<td>48.6495115</td></tr>\n",
       "<tr><td></td>\n",
       "<td>2017-09-21 19:11:15</td>\n",
       "<td>13 min 54.475 sec</td>\n",
       "<td>250.0</td>\n",
       "<td>6.8126086</td>\n",
       "<td>0.0640075</td>\n",
       "<td>46.4116366</td>\n",
       "<td>6.9748295</td>\n",
       "<td>0.0657551</td>\n",
       "<td>48.6482467</td></tr></table></div>"
      ],
      "text/plain": [
       "    timestamp            duration           number_of_trees    training_rmse    training_mae    training_deviance    validation_rmse    validation_mae    validation_deviance\n",
       "--  -------------------  -----------------  -----------------  ---------------  --------------  -------------------  -----------------  ----------------  ---------------------\n",
       "    2017-09-21 18:57:20  0.007 sec          0                  nan              nan             nan                  nan                nan               nan\n",
       "    2017-09-21 18:57:23  2.894 sec          1                  6.44172          0.0644708       41.4958              6.97076            0.0656942         48.5915\n",
       "    2017-09-21 18:57:39  18.948 sec         4                  6.82582          0.0641423       46.5918              6.98761            0.0656613         48.8267\n",
       "    2017-09-21 18:58:05  44.576 sec         11                 6.8284           0.0641023       46.627               6.98114            0.0658081         48.7363\n",
       "    2017-09-21 18:58:50  1 min 30.019 sec   27                 6.82478          0.0641278       46.5776              6.97909            0.0658414         48.7076\n",
       "    2017-09-21 19:00:16  2 min 55.973 sec   47                 6.8213           0.0640833       46.5302              6.98097            0.0658491         48.7339\n",
       "    2017-09-21 19:02:33  5 min 13.046 sec   89                 6.81584          0.0640137       46.4556              6.97757            0.065801          48.6865\n",
       "    2017-09-21 19:06:31  9 min 11.405 sec   167                6.81295          0.0640116       46.4163              6.97492            0.0657567         48.6495\n",
       "    2017-09-21 19:11:15  13 min 54.475 sec  250                6.81261          0.0640075       46.4116              6.97483            0.0657551         48.6482"
      ]
     },
     "metadata": {},
     "output_type": "display_data"
    },
    {
     "name": "stdout",
     "output_type": "stream",
     "text": [
      "Variable Importances: \n"
     ]
    },
    {
     "data": {
      "text/html": [
       "<div style=\"overflow:auto\"><table style=\"width:50%\"><tr><td><b>variable</b></td>\n",
       "<td><b>relative_importance</b></td>\n",
       "<td><b>scaled_importance</b></td>\n",
       "<td><b>percentage</b></td></tr>\n",
       "<tr><td>HourOfDay</td>\n",
       "<td>1345172224.0000000</td>\n",
       "<td>1.0</td>\n",
       "<td>0.3148284</td></tr>\n",
       "<tr><td>Device</td>\n",
       "<td>923930240.0000000</td>\n",
       "<td>0.6868490</td>\n",
       "<td>0.2162396</td></tr>\n",
       "<tr><td>publisherId</td>\n",
       "<td>642722048.0000000</td>\n",
       "<td>0.4777991</td>\n",
       "<td>0.1504247</td></tr>\n",
       "<tr><td>advertiserCampaignId</td>\n",
       "<td>383108864.0000000</td>\n",
       "<td>0.2848028</td>\n",
       "<td>0.0896640</td></tr>\n",
       "<tr><td>WeekDay</td>\n",
       "<td>324755104.0000000</td>\n",
       "<td>0.2414227</td>\n",
       "<td>0.0760067</td></tr>\n",
       "<tr><td>Browser</td>\n",
       "<td>221572992.0000000</td>\n",
       "<td>0.1647172</td>\n",
       "<td>0.0518576</td></tr>\n",
       "<tr><td>Day</td>\n",
       "<td>169023712.0000000</td>\n",
       "<td>0.1256521</td>\n",
       "<td>0.0395588</td></tr>\n",
       "<tr><td>Country</td>\n",
       "<td>120381432.0000000</td>\n",
       "<td>0.0894915</td>\n",
       "<td>0.0281745</td></tr>\n",
       "<tr><td>TrafficType</td>\n",
       "<td>51323152.0000000</td>\n",
       "<td>0.0381536</td>\n",
       "<td>0.0120118</td></tr>\n",
       "<tr><td>WeekNum</td>\n",
       "<td>49267552.0000000</td>\n",
       "<td>0.0366255</td>\n",
       "<td>0.0115307</td></tr>\n",
       "<tr><td>Weekend</td>\n",
       "<td>26906462.0000000</td>\n",
       "<td>0.0200022</td>\n",
       "<td>0.0062973</td></tr>\n",
       "<tr><td>TrafficTypeMissing</td>\n",
       "<td>10412874.0000000</td>\n",
       "<td>0.0077409</td>\n",
       "<td>0.0024371</td></tr>\n",
       "<tr><td>OS</td>\n",
       "<td>3993982.2500000</td>\n",
       "<td>0.0029691</td>\n",
       "<td>0.0009348</td></tr>\n",
       "<tr><td>OSMissing</td>\n",
       "<td>144293.6562500</td>\n",
       "<td>0.0001073</td>\n",
       "<td>0.0000338</td></tr>\n",
       "<tr><td>BrowserMissing</td>\n",
       "<td>966.9044189</td>\n",
       "<td>0.0000007</td>\n",
       "<td>0.0000002</td></tr>\n",
       "<tr><td>CountryMissing</td>\n",
       "<td>74.3601761</td>\n",
       "<td>0.0000001</td>\n",
       "<td>0.0000000</td></tr>\n",
       "<tr><td>DeviceMissing</td>\n",
       "<td>69.8530807</td>\n",
       "<td>0.0000001</td>\n",
       "<td>0.0000000</td></tr>\n",
       "<tr><td>Fraud</td>\n",
       "<td>0.0</td>\n",
       "<td>0.0</td>\n",
       "<td>0.0</td></tr></table></div>"
      ],
      "text/plain": [
       "variable              relative_importance    scaled_importance    percentage\n",
       "--------------------  ---------------------  -------------------  ------------\n",
       "HourOfDay             1.34517e+09            1                    0.314828\n",
       "Device                9.2393e+08             0.686849             0.21624\n",
       "publisherId           6.42722e+08            0.477799             0.150425\n",
       "advertiserCampaignId  3.83109e+08            0.284803             0.089664\n",
       "WeekDay               3.24755e+08            0.241423             0.0760067\n",
       "Browser               2.21573e+08            0.164717             0.0518576\n",
       "Day                   1.69024e+08            0.125652             0.0395588\n",
       "Country               1.20381e+08            0.0894915            0.0281745\n",
       "TrafficType           5.13232e+07            0.0381536            0.0120118\n",
       "WeekNum               4.92676e+07            0.0366255            0.0115307\n",
       "Weekend               2.69065e+07            0.0200022            0.00629727\n",
       "TrafficTypeMissing    1.04129e+07            0.00774092           0.00243706\n",
       "OS                    3.99398e+06            0.00296912           0.000934764\n",
       "OSMissing             144294                 0.000107268          3.37709e-05\n",
       "BrowserMissing        966.904                7.18796e-07          2.26297e-07\n",
       "CountryMissing        74.3602                5.52793e-08          1.74035e-08\n",
       "DeviceMissing         69.8531                5.19287e-08          1.63486e-08\n",
       "Fraud                 0                      0                    0"
      ]
     },
     "metadata": {},
     "output_type": "display_data"
    },
    {
     "data": {
      "text/plain": []
     },
     "execution_count": 82,
     "metadata": {},
     "output_type": "execute_result"
    }
   ],
   "source": [
    "drf0"
   ]
  },
  {
   "cell_type": "code",
   "execution_count": 83,
   "metadata": {},
   "outputs": [
    {
     "name": "stdout",
     "output_type": "stream",
     "text": [
      "gbm prediction progress: |████████████████████████████████████████████████| 100%\n"
     ]
    },
    {
     "name": "stderr",
     "output_type": "stream",
     "text": [
      "/usr/local/lib/python3.5/dist-packages/h2o/job.py:69: UserWarning: Test/Validation dataset column 'Device' has levels not trained on: [AEG, ASK, Altron, BigBen, DQV, Desay, Digital2, Easyteck, Ferguson, GUOMI, Gadnic, Haipai, Hott, Kingplay, MWG, Microvission, Mimo, Mobo, MouseComputer, MyMobi, Nevitel, Novarra, Oaks, Ola, Omega, Opal, PENTAGRAM, Pierre Cardin, Red-X, Rikomagic, Rio Technology, S Nexian, SUMVISION, Semp, Simmtronics, Skaynet, TBS, Tracer, Victor, Windows Mobile, myPad]\n",
      "  warnings.warn(w)\n",
      "/usr/local/lib/python3.5/dist-packages/h2o/job.py:69: UserWarning: Test/Validation dataset column 'Browser' has levels not trained on: [palm]\n",
      "  warnings.warn(w)\n",
      "/usr/local/lib/python3.5/dist-packages/h2o/job.py:69: UserWarning: Test/Validation dataset column 'OS' has levels not trained on: [Palm OS]\n",
      "  warnings.warn(w)\n",
      "/usr/local/lib/python3.5/dist-packages/h2o/job.py:69: UserWarning: Test/Validation dataset column 'publisherId' has levels not trained on: [1024, 10530.0, 10536, 10690, 10909.0, 1095.0, 10c74, 11030.0, 11169.0, 11172, 11187.0, 11261.0, 114.0, 117.0, 11811.0, 11828.0, 11859, 12044, 12046.0, 12048.0, 12338.0, 12358.0, 12550.0, 12728.0, 12799.0, 12856.0, 12917.0, 1297, 1297.0, 1306⊂id=purg9shnxmz2, 1309.0, 1310.0, 13103.0, 1311, 13207, 13302, 13374, 13377.0, 13383.0, 13427, 13514.0, 13516, 13517, 13650.0, 1394.0, 13949.0, 14019.0, 14146.0, 14147, 14147.0, 14168.0, 14207, 14230.0, 14445, 14625, 14707.0, 14737.0, 1477.0, 14844y, 1486.0, 1489, 1489.0, 14901.0, 1492, 1492.0, 1495.0, 14954.0, 1497.0, 1502, 1502.0, 15034, 15068.0, 1506transaction_id=fd964a41501612f1b3f52138bd5716a4, 15070.0, 1509, 1509.0, 15116.0, 15236.0, 15314, 15331.0, 15424.0, 15437, 15437.0, 15442.0, 15443, 15450, 1548, 15539.0, 15540, 15564.0, 1649, 16553.0, 16556, 16556.0, 16588.0, 1660.0, 1661, 16613.0, 16669, 16727.0, 16731.0, 16787.0, 16828.0, 16836.0, 16947, 17007.0, 17019.0, 17060, 17135, 1770.0, 17853.0, 17902, 1792, 18171, 18174.0, 18180, 18247, 18267.0, 18274, 18289.0, 18292, 18292.0, 18297.0, 18301.0, 18482, 18482.0, 18498, 18561, 18577.0, 18591.0, 18624.0, 1864.0, 18645.0, 18701.0, 18703.0, 18728.0, 18886, 18890.0, 1908, 19096.0, 19114.0, 19209, 19214, 19397.0, 19406.0, 19460, 1947.0, 19508, 19521, 19563, 19567, 19594.0, 19722.0, 19772, 19803.0, 19944, 19996.0, 20013.0, 20037.0, 20042.0, 20049.0, 20086.0, 20159.0, 20174.0, 20233.0, 20405.0, 20415.0, 20451.0, 20474.0, 20480, 20494, 20512, 20512.0, 20624, 20627, 20629.0, 20711, 20755k24, 20830.0, 2084.0, 20917, 20918.0, 20953.0, 21009.0, 21012.0, 21017, 21179, 21179.0, 21218, 21220, 21221.0, 21258.0, 21263.0, 2130.0, 2142.0, 22, 2215.0, 2219.0, 22267, 22307, 22307.0, 22308, 22308.0, 22312, 22381.0, 22382.0, 22412, 22414.0, 2322.0, 2348, 237sexyvideo.com0, 2381007无标题, 2426vvv, 24826.0, 24875.0, 24930.0, 25013, 25055.0, 25059, 25067.0, 25094.0, 25097.0, 25103.0, 25168.0, 25190.0, 25210.0, 2525.0, 25465, 25466.0, 25579, 25583.0, 25589.0, 25610, 25635, 25640.0, 25650.0, 25652, 25652.0, 25656, 25656.0, 25716.0, 25717.0, 25721, 25787.0, 25788, 25788.0, 25789, 25789.0, 25897.0, 25938, 25938.0, 26.0, 26009.0, 26012.0, 26062.0, 26132.0, 26278.0, 26403.0, 26406.0, 26426, 26431.0, 26522.0, 26529, 26671.0, 26949.0, 26950.0, 27026, 27065.0, 27071.0, 27163, 27164, 27305, 27312, 27323.0, 27331, 27332, 27349.0, 27395.0, 27397, 27397.0, 27405, 27438.0, 27444.0, 27490.0, 27577, 27598.0, 27626.0, 27629, 27641.0, 27647.0, 27651.0, 27656, 27768.0, 27772, 27808.0, 27812.0, 27828, 27828.0, 27837.0, 27845.0, 27854, 27876.0, 27877.0, 27890, 27897, 27899, 27955, 27981.0, 28047, 28228.0, 28300, 28335.0, 28336, 28353.0, 28356.0, 2836.0, 28500, 28520.0, 28541, 28542.0, 28567, 28660, 28662.0, 28663, 28741.0, 28743.0, 28777, 28784, 28792.0, 28793, 28800, 28845.0, 2890, 2890.0, 28974.0, 29098.0, 29103, 29127.0, 2928.0, 29320, 29357, 29409, 29414.0, 29452, 29481.0, 29483.0, 29487.0, 29497.0, 29595.0, 29621, 29631.0, 29634.0, 29635.0, 29655.0, 29656, 29678.0, 29782, 29786.0, 29995.0, 30142.0, 30148.0, 30159, 30249, 30249.0, 30256, 30469, 30509.0, 30534.0, 30592.0, 30593.0, 30595, 30644.0, 30646.0, 30651.0, 30751, 30786.0, 30808, 30859, 30860, 30880, 30881.0, 30892, 30895.0, 30896, 30899, 31006.0, 31042.0, 31084, 31139.0, 31141.0, 31150.0, 31166.0, 31190, 31191, 31219, 31235, 31235.0, 31331, 31401.0, 315?affID=TK, 31613, 31613.0, 31614, 31614.0, 31615, 31615.0, 31616, 31616.0, 31620, 31620.0, 31623, 31624, 31624.0, 31661, 31713.0, 31723, 31744.0, 31799.0, 31936, 32001.0, 32023, 32028, 3206, 3211.0, 32191, 32215.0, 32282.0, 32305.0, 32338, 32426, 32426.0, 32429, 32429.0, 32430.0, 32469, 32473.0, 32475.0, 32492.0, 32500, 32544.0, 32550.0, 32585.0, 32621.0, 32626, 32668.0, 32671.0, 32733.0, 32745.0, 32781.0, 32784, 32791, 32890.0, 329.com60, 32939.0, 32957, 33058.0, 3328, 33322, 33323.0, 33390, 33398, 33402.0, 33473.0, 33480, 33512.0, 33527, 33556, 33557, 33562.0, 3359, 33614.0, 33745.0, 33795, 33890.0, 33892.0, 34004.0, 34022, 34055.0, 34085.0, 34145, 34145.0, 34164, 34166.0, 342, 3427.0, 34318.0, 34320, 34336.0, 34337, 34373.0, 34463.0, 34509.0, 3454.0, 346.0, 34625, 34625.0, 34629.0, 34630, 34668.0, 34670.0, 34673.0, 34799.0, 34837, 34857.0, 34866.0, 34914, 34925.0, 34955.0, 34956.0, 34961.0, 34962.0, 34967, 3499.0, 35014, 35015, 35019, 35219, 35281.0, 35382.0, 35426.0, 3549.0, 3560.0, 35632.0, 35634, 35647, 35652, 35690.0, 35694.0, 35700.0, 35720.0, 35729.0, 35734.0, 35748, 35754.0, 35755.0, 35776.0, 35884, 35884.0, 35886.0, 36035.0, 36064, 36071.0, 36187.0, 36190.0, 36316.0, 36331.0, 36362.0, 36369, 36501.0, 36504.0, 36518, 36598, 36695.0, 36737.0, 36747 video English direct Ducati, 36931, 36934, 36957, 37009.0, 3731.0, 37324.0, 37343.0, 37344.0, 37355, 37364.0, 37368, 37369.0, 37381.0, 37387, 37392, 37395.0, 37401.0, 37403, 37471.0, 37476.0, 37496, 3766xxx1, 3772, 37747, 37754, 37774.0, 37830.0, 38140.0, 38197.0, 38286.0, 38302, 38305, 38316.0, 38358.0, 38419.0, 38531, 38617.0, 38619.0, 38623, 38639, 38805, 38921.0, 38941, 38967.0, 38985.0, 38986, 38986.0, 38990.0, 38997, 39003, 39045.0, 39087.0, 39106.0, 39147.0, 39174, 39284.0, 39385, 39448.0, 39472, 39501, 39567, 39596.0, 39633.0, 39660.0, 3974.0, 39765.0, 39768, 39778.0, 3983, 39933.0, 40035, 40085.0, 40091, 401, 401.0, 40153.0, 40196.0, 40197, 40197.0, 401transaction_id=59a7d6bd6acafe338825edc9, 401transaction_id=59a7d7856acafe338825fc46, 401transaction_id=59a7d7af6acafe338825ff03, 401transaction_id=59a7d8696acafe3388260acc, 401transaction_id=59a7d8a16acafe3388260e4c, 401transaction_id=59a7d8d46acafe3388261180, 401transaction_id=59a7da1c6acafe33882625ea, 401transaction_id=59a7da8c6acafe3388262dd1, 401transaction_id=59a7dc016acafe33882644c1, 401transaction_id=59a7eb1b6acafe3388279451, 401transaction_id=59a7eb5a6acafe3388279aa0, 401transaction_id=59a7ec3a6acafe338827b037, 401transaction_id=59a7efdc6acafe338827e7db, 401transaction_id=59a7f3a96acafe3388281fa3, 401transaction_id=59a7f5e66acafe3388284016, 401transaction_id=59a7f5fa6acafe33882840d2, 401transaction_id=59a7f72c6acafe3388284f27, 401transaction_id=59a7f9746acafe3388286dd5, 401transaction_id=59a7fa556acafe3388287a4f, 401transaction_id=59a7fac46acafe338828800b, 401transaction_id=59a7fbb76acafe3388288d0b, 401transaction_id=59a7fea96acafe338828b348, 401transaction_id=59a7feb86acafe338828b41c, 401transaction_id=59a7feeb6acafe338828b6f2, 401transaction_id=59a801506acafe338828d903, 401transaction_id=59a8041e6acafe3388290245, 401transaction_id=59a805a56acafe338829191e, 401transaction_id=59a805da6acafe3388291bf6, 401transaction_id=59a805e16acafe3388291c59, 401transaction_id=59a806b86acafe33882929d1, 401transaction_id=59a806f16acafe3388292d40, 401transaction_id=59a8071e6acafe3388292fc6, 401transaction_id=59a8084d6acafe3388294215, 401transaction_id=59a80b136acafe3388298017, 401transaction_id=59a80b436acafe33882985f5, 401transaction_id=59a80bce6acafe33882990d4, 401transaction_id=59a80dcf6acafe338829b8d4, 401transaction_id=59a810516acafe338829e8ab, 401transaction_id=59a810f96acafe338829f218, 401transaction_id=59a811e66acafe33882a01f1, 401transaction_id=59a812266acafe33882a0690, 401transaction_id=59a813286acafe33882a164c, 401transaction_id=59a8132b6acafe33882a1685, 401transaction_id=59a813316acafe33882a16e6, 401transaction_id=59a814cd6acafe33882a32b0, 401transaction_id=59a814ff6acafe33882a364c, 401transaction_id=59a815a36acafe33882a41c0, 401transaction_id=59a815e96acafe33882a4652, 401transaction_id=59a817436acafe33882a5aef, 401transaction_id=59a8174f6acafe33882a5bce, 401transaction_id=59a81bd86acafe33882aa80b, 401transaction_id=59a81c696acafe33882ab10a, 401transaction_id=59a81d746acafe33882ac227, 401transaction_id=59a81e2e6acafe33882acece, 401transaction_id=59a81f3e6acafe33882adf9b, 401transaction_id=59a81fa36acafe33882ae61e, 401transaction_id=59a81fb26acafe33882ae70c, 401transaction_id=59a81fcd6acafe33882ae8b3, 401transaction_id=59a822256acafe33882b1327, 401transaction_id=59a822776acafe33882b1883, 401transaction_id=59a824c56acafe33882b42b9, 401transaction_id=59a824f56acafe33882b4623, 401transaction_id=59a8252b6acafe33882b4a0e, 401transaction_id=59a825346acafe33882b4ab6, 401transaction_id=59a826626acafe33882b61a3, 401transaction_id=59a826886acafe33882b63f7, 401transaction_id=59a826b56acafe33882b66e8, 401transaction_id=59a827236acafe33882b6e6b, 401transaction_id=59a82b896acafe33882bbaf5, 401transaction_id=59a82ca96acafe33882bce7c, 401transaction_id=59a82cd16acafe33882bd19c, 401transaction_id=59a82e5d6acafe33882beb3e, 401transaction_id=59a82ffd6acafe33882c04ec, 401transaction_id=59a832566acafe33882c2d1e, 401transaction_id=59a833956acafe33882c4ad1, 401transaction_id=59a833ef6acafe33882c513b, 401transaction_id=59a834006acafe33882c524e, 401transaction_id=59a834266acafe33882c5505, 401transaction_id=59a834346acafe33882c5600, 401transaction_id=59a8389d6acafe33882ca0a9, 401transaction_id=59a838b46acafe33882ca26f, 401transaction_id=59a838fe6acafe33882ca79b, 401transaction_id=59a839da6acafe33882cb697, 401transaction_id=59a83c3d6acafe33882ce296, 401transaction_id=59a83ca86acafe33882ceba7, 401transaction_id=59a83cce6acafe33882ceebc, 401transaction_id=59a83cd36acafe33882cef10, 401transaction_id=59a83dbf6acafe33882cff4e, 401transaction_id=59a83dc56acafe33882cffa0, 401transaction_id=59a83e1c6acafe33882d05c6, 401transaction_id=59a83e6d6acafe33882d0bcc, 401transaction_id=59a83f0f6acafe33882d18b2, 401transaction_id=59a83f126acafe33882d18fb, 401transaction_id=59a83f196acafe33882d1967, 401transaction_id=59a83f626acafe33882d1e36, 401transaction_id=59a83fc06acafe33882d24ac, 401transaction_id=59a842546acafe33882d586d, 401transaction_id=59a8429f6acafe33882d5dd8, 401transaction_id=59a8438d6acafe33882d71b5, 401transaction_id=59a847146acafe33882db31b, 401transaction_id=59a847b96acafe33882dbfb7, 401transaction_id=59a847e76acafe33882dc3a0, 401transaction_id=59a848876acafe33882dd006, 401transaction_id=59a84a896acafe33882df5fe, 401transaction_id=59a84b0d6acafe33882dffe6, 401transaction_id=59a84d526acafe33882e2aa9, 401transaction_id=59a84de56acafe33882e34f2, 401transaction_id=59a84e5e6acafe33882e3eed, 401transaction_id=59a84fd36acafe33882e5a84, 401transaction_id=59a84ff56acafe33882e5d04, 401transaction_id=59a851946acafe33882e7f26, 401transaction_id=59a854cd6acafe33882ec10f, 401transaction_id=59a855536acafe33882ecbac, 401transaction_id=59a855676acafe33882ecd30, 401transaction_id=59a855ec6acafe33882ed832, 401transaction_id=59a857b36acafe33882efc01, 401transaction_id=59a857d96acafe33882eff36, 401transaction_id=59a85b836acafe33882f49c7, 401transaction_id=59a85d6d6acafe33882f733f, 401transaction_id=59a85f766acafe33882f9ff9, 401transaction_id=59a85fe26acafe33882fa951, 401transaction_id=59a860536acafe33882fb303, 401transaction_id=59a860916acafe33882fb82b, 401transaction_id=59a862f76acafe33882feb51, 401transaction_id=59a8667e6acafe3388303307, 401transaction_id=59a867926acafe33883049d8, 401transaction_id=59a8679c6acafe3388304aa8, 401transaction_id=59a86dd86acafe338830d2a9, 401transaction_id=59a86df86acafe338830d56b, 401transaction_id=59a872446acafe3388312f78, 401transaction_id=59a8796f6acafe338831b9ec, 401transaction_id=59a87a136acafe338831c606, 401transaction_id=59a87a826acafe338831cde4, 401transaction_id=59a87b456acafe338831dc63, 401transaction_id=59a87beb6acafe338831e8cc, 401transaction_id=59a87de36acafe3388320d76, 401transaction_id=59a87e526acafe33883215ae, 401transaction_id=59a87e9d6acafe3388321ac1, 401transaction_id=59a87eac6acafe3388321bd9, 401transaction_id=59a881306acafe3388324842, 401transaction_id=59a8829e6acafe3388326203, 401transaction_id=59a883176acafe3388326a9d, 401transaction_id=59a8831b6acafe3388326ae8, 401transaction_id=59a885fc6acafe3388329ca6, 401transaction_id=59a88a196acafe3388332387, 401transaction_id=59a88b0a6acafe33883335ea, 401transaction_id=59a88c6f6acafe338833688b, 401transaction_id=59a88d4a6acafe3388337c97, 401transaction_id=59a88e3a6acafe3388339bc2, 401transaction_id=59a88e456acafe3388339cf8, 401transaction_id=59a8906e6acafe338833d39b, 401transaction_id=59a894216acafe3388342bc2, 401transaction_id=59a894856acafe338834377e, 401transaction_id=59a8965a6acafe3388346ac1, 401transaction_id=59a897e96acafe33883494b0, 401transaction_id=59a897e96acafe33883494ba, 401transaction_id=59a898316acafe3388349b30, 401transaction_id=59a899066acafe338834b8b0, 401transaction_id=59a89a7d6acafe338834d884, 401transaction_id=59a89b176acafe338834efc7, 401transaction_id=59a89e786acafe3388354d93, 401transaction_id=59a8a2ac6acafe338835ce2f, 401transaction_id=59a8a35f6acafe338835dedf, 401transaction_id=59a8a36f6acafe338835e04e, 401transaction_id=59a8a4586acafe338835ff05, 401transaction_id=59a8a6a06acafe3388363965, 401transaction_id=59a8a6b36acafe3388363b10, 401transaction_id=59a8a7196acafe33883643e8, 401transaction_id=59a8a7906acafe3388364da1, 401transaction_id=59a8a8256acafe3388365d94, 401transaction_id=59a8afae6acafe3388372b1c, 401transaction_id=59a8b0d46acafe338837501f, 401transaction_id=59a8b1af6acafe3388376391, 401transaction_id=59a8b2a86acafe3388377efa, 401transaction_id=59a8b3e76acafe3388379cca, 401transaction_id=59a8ba326acafe338838336c, 401transaction_id=59a8ba496acafe33883834eb, 401transaction_id=59a8ba536acafe33883835c0, 401transaction_id=59a8bbd06acafe3388385c35, 401transaction_id=59a8bd736acafe3388388111, 401transaction_id=59a8bdc66acafe3388388d79, 401transaction_id=59a8bf706acafe338838b044, 401transaction_id=59a8c5086acafe3388393efa, 401transaction_id=59a8c5bf6acafe3388394e8f, 401transaction_id=59a8c6196acafe338839561d, 401transaction_id=59a8c9976acafe338839a064, 401transaction_id=59a8c9bb6acafe338839a2be, 401transaction_id=59a8c9cc6acafe338839a3fc, 401transaction_id=59a8cbc36acafe338839cba8, 401transaction_id=59a8cc1c6acafe338839d1de, 401transaction_id=59a8cc3d6acafe338839d40e, 401transaction_id=59a8cce16acafe338839e0fa, 401transaction_id=59a8cffd6acafe33883a19c7, 401transaction_id=59a8d02c6acafe33883a1d31, 401transaction_id=59a8d0a06acafe33883a276c, 401transaction_id=59a8d3536acafe33883a5fd0, 401transaction_id=59a8d3936acafe33883a64de, 401transaction_id=59a8d3dc6acafe33883a6a50, 401transaction_id=59a8d4526acafe33883a72e5, 401transaction_id=59a8d4ce6acafe33883a7c8a, 401transaction_id=59a8d6ba6acafe33883a96cd, 401transaction_id=59a8db146acafe33883adb90, 401transaction_id=59a8db166acafe33883adbb6, 401transaction_id=59a8dbea6acafe33883ae84f, 401transaction_id=59a8dc1b6acafe33883aeb02, 401transaction_id=59a8dc916acafe33883af124, 401transaction_id=59a8dfbf6acafe33883b1b73, 401transaction_id=59a8e1b76acafe33883b3471, 401transaction_id=59a8e28b6acafe33883b3e34, 401transaction_id=59a8e2ab6acafe33883b3fb8, 401transaction_id=59a8e6fc6acafe33883b7189, 401transaction_id=59a8e7e36acafe33883b7aef, 401transaction_id=59a8e7ff6acafe33883b7c2e, 401transaction_id=59a8e8b76acafe33883b84a4, 401transaction_id=59a8e93a6acafe33883b8b3f, 401transaction_id=59a8ea286acafe33883b9620, 401transaction_id=59a8f0646acafe33883be4ce, 401transaction_id=59a8f34a6acafe33883c077f, 401transaction_id=59a8f4066acafe33883c114c, 401transaction_id=59a8f87e6acafe33883c46f5, 401transaction_id=59a8f8f76acafe33883c4caa, 401transaction_id=59a8f96e6acafe33883c522f, 401transaction_id=59a8fd116acafe33883c7d58, 401transaction_id=59a8fee06acafe33883c9094, 401transaction_id=59a8ff736acafe33883c972b, 401transaction_id=59a8ff766acafe33883c974b, 401transaction_id=59a900016acafe33883c9dca, 401transaction_id=59a901746acafe33883caf54, 401transaction_id=59a903aa6acafe33883ccb31, 401transaction_id=59a904536acafe33883cd3af, 401transaction_id=59a904ae6acafe33883cd7c7, 401transaction_id=59a904d46acafe33883cd9a5, 401transaction_id=59a905036acafe33883cdbc2, 401transaction_id=59a905c36acafe33883ce474, 401transaction_id=59a9088c6acafe33883d0717, 401transaction_id=59a909aa6acafe33883d13f1, 401transaction_id=59a90a046acafe33883d180d, 401transaction_id=59a90ad26acafe33883d213d, 401transaction_id=59a90ad36acafe33883d2152, 401transaction_id=59a90fbe6acafe33883d5a68, 401transaction_id=59a910c06acafe33883d65fb, 401transaction_id=59a914b96acafe33883d9726, 401transaction_id=59a91a1d6acafe33883dda36, 401transaction_id=59a91b566acafe33883deaa7, 401transaction_id=59a91b566acafe33883deaae, 401transaction_id=59a91c6b6acafe33883df7dd, 401transaction_id=59a91d656acafe33883e036e, 401transaction_id=59a91dba6acafe33883e071a, 401transaction_id=59a91e4c6acafe33883e0e0f, 401transaction_id=59a91ec36acafe33883e1464, 401transaction_id=59a920b06acafe33883e2e83, 401transaction_id=59a9236e6acafe33883e5421, 401transaction_id=59a925106acafe33883e6a52, 401transaction_id=59a925896acafe33883e70db, 401transaction_id=59a927046acafe33883e8467, 401transaction_id=59a929286acafe33883ea1a8, 401transaction_id=59a929906acafe33883ea732, 401transaction_id=59a929d36acafe33883eaab1, 401transaction_id=59a929e66acafe33883eabb0, 401transaction_id=59a92a586acafe33883eb20d, 401transaction_id=59a92be56acafe33883ec657, 401transaction_id=59a934666acafe33883f3967, 401transaction_id=59a934c96acafe33883f3e59, 401transaction_id=59a934f86acafe33883f4071, 401transaction_id=59a936306acafe33883f5050, 401transaction_id=59a937d96acafe33883f65af, 401transaction_id=59a93a736acafe33883f889c, 401transaction_id=59a93cbe6acafe33883fa4e4, 401transaction_id=59a93d146acafe33883fa947, 401transaction_id=59a9467b6acafe3388403c6b, 401transaction_id=59a94b166acafe3388408fd0, 401transaction_id=59a94bb66acafe3388409b6b, 401transaction_id=59a94e866acafe338840f9f1, 401transaction_id=59a94f9d6acafe3388411f01, 401transaction_id=59a950946acafe3388413226, 401transaction_id=59a955926acafe33884190f4, 401transaction_id=59a9568c6acafe338841a380, 40396, 40459.0, 40501.0, 40657.0, 40705.0, 40781, 40784.0, 40788.0, 40797.0, 40888.0, 40900.0, 40927, 40927.0, 41003.0, 41023.0, 41254.0, 41260.0, 41367.0, 41377, 41389, 41507.0, 41508, 41521, 4154.0, 41565.0, 41658, 41660.0, 41685, 41686, 4172.0, 41757.0, 41784, 41785.0, 41829.0, 41863.0, 41957.0, 42114.0, 42197, 42214, 42214.0, 42223, 42223.0, 42256, 42399.0, 42429.0, 42441.0, 42492.0, 42495.0, 42496.0, 42497, 4257.0, 42921.0, 42951.0, 43002, 43002.0, 43004.0, 43054.0, 43100, 43100.0, 43102, 43143.0, 43160.0, 4325.0, 43256, 43256.0, 43394.0, 43443, 43443.0, 43450, 43450.0, 43451, 43451.0, 43452, 43452.0, 43453, 43453.0, 43456, 43456.0, 43457, 43457.0, 43477, 43477.0, 43492, 43499, 43499.0, 43522, 43522.0, 43523.0, 43528, 43528.0, 43534.0, 4354t5, 43570, 43570.0, 43571, 43571.0, 43657, 43657.0, 43658, 43658.0, 43669.0, 43710, 43712, 43721, 43721.0, 43723, 43723.0, 43732.0, 43773, 43778, 43779, 43780, 43780.0, 43781, 43785, 43786.0, 43787, 43794, 43795, 43795.0, 43804, 43804.0, 43805, 43805.0, 43806, 43806.0, 43808, 43808.0, 43812, 43812.0, 43814, 43814.0, 43816, 43816.0, 43821, 43821.0, 43828, 43832.0, 43851.0, 43852, 43853.0, 43856, 43856.0, 43857, 43857.0, 43868.0, 43869.0, 4387, 43884, 43884.0, 43886, 43886.0, 43955, 43960.0, 43964.0, 43967.0, 43968, 43968.0, 43969, 43969.0, 43972, 43972.0, 43983.0, 43985, 43989.0, 43991, 43992, 44019.0, 44021, 44021.0, 44022, 44022.0, 44024, 44024.0, 44025, 44025.0, 44027, 44027.0, 44033, 44033.0, 44035, 44035.0, 44036, 44036.0, 44037, 44037.0, 44038, 44038.0, 44043, 44043.0, 44074, 44074.0, 44089, 44089.0, 44121, 44121.0, 44157.0, 44159.0, 44162.0, 44178, 44178.0, 44212, 44216, 44216.0, 44252.0, 44256.0, 44284, 44284.0, 44285, 44285.0, 44291, 44292.0, 44293.0, 44308, 44328, 44328.0, 44345, 44345.0, 44346, 44347, 44347.0, 44350, 44350.0, 44360, 44392, 44392.0, 44393, 44393.0, 44394, 44394.0, 44403, 44403.0, 44404, 44404.0, 44416, 44416.0, 44438, 44452, 44452.0, 44502, 44502.0, 44503, 44504, 44504.0, 44505, 44505.0, 44613, 44613.0, 467, 467.0, 4710, 4729.0, 4761, 4770.0, 490.0, 5019.0, 504, 5183, 528, 5317, 5321, 55⊂id=o0sr1c046etf, 5605.0, 5647.0, 5698.0, 5822.0, 60, 60.0, 6027, 6150, 6154.0, 6164, 6169, 6229, 6232, 6253.0, 6366.0, 6435.0, 6505.0, 670.0, 6781.0, 6782.0, 6785.0, 6786.0, 682, 682.0, 684.0, 7072.0, 7115, 7144.0, 7220, 7312.0, 7373, 7373.0, 7374.0, 748.0, 7523.0, 7577, 7603.0, 7672.0, 7790, 78, 7896.0, 7901, 797xxx4, 80, 8033.0, 8059.0, 8204.0, 83, 8545.0, 8582, 8662, 8674, 8720.0, 8737, 8745, 8745.0, 8857.0, 8881, 906.com, 906CANDANA, 906ajpmtmjmpwtpmtwjtwww..comjj.comtmtmjtjugmgg, 906bp, 9114, 9224, 9226.0, 9238.0, 9280.0, 9284, 9444.0, 9497.0, 9574.0, <0xEFBFBDEFBFBDEFBFBD>W<0xDABC>6]4*\u0005, sexy hot desi hd1062]\n",
      "  warnings.warn(w)\n"
     ]
    },
    {
     "name": "stderr",
     "output_type": "stream",
     "text": [
      "/usr/local/lib/python3.5/dist-packages/h2o/job.py:69: UserWarning: Test/Validation dataset column 'advertiserCampaignId' has levels not trained on: [10586.0, 10671.0, 10937.0, 11012.0, 11041.0, 11111.0, 11182.0, 11321.0, 11907.0, 12167.0, 12350.0, 12399.0, 12406.0, 12533.0, 12983.0, 13012.0, 13291.0, 13595.0, 13772.0, 13773.0, 13775.0, 13790.0, 13969.0, 13970.0, 13989.0, 14001.0, 14217.0, 14251.0, 14373.0, 14404.0, 14426.0, 14554.0, 14683.0, 14788.0, 14874.0, 14875.0, 14898.0, 14930.0, 15038.0, 15046.0, 15209.0, 15280.0, 15379.0, 15482.0, 15500.0, 15502.0, 15516.0, 15521.0, 15659.0, 15712.0, 15721.0, 15723.0, 15801.0, 15867.0, 15893.0, 15951.0, 16094.0, 16183.0, 16225.0, 16263.0, 16346.0, 16375.0, 16418.0, 16503.0, 16555.0, 16577.0, 16585.0, 16596.0, 16626.0, 16652.0, 16692.0, 16714.0, 16716.0, 16717.0, 16718.0, 16752.0, 16949.0, 17029.0, 17109.0, 17153.0, 17207.0, 17391.0, 1747.0, 17519.0, 17541.0, 17550.0, 17623.0, 17647.0, 17648.0, 17654.0, 17708.0, 17709.0, 17710.0, 17711.0, 17712.0, 17713.0, 17714.0, 17715.0, 17716.0, 17717.0, 17718.0, 17719.0, 17720.0, 17721.0, 17722.0, 17723.0, 17724.0, 17725.0, 17727.0, 17728.0, 17729.0, 17730.0, 17731.0, 17732.0, 17734.0, 17735.0, 17736.0, 17738.0, 17739.0, 17741.0, 17742.0, 17743.0, 17744.0, 17745.0, 17746.0, 17747.0, 17748.0, 17749.0, 17750.0, 17751.0, 17752.0, 17753.0, 17754.0, 17755.0, 17756.0, 17758.0, 17759.0, 17760.0, 17761.0, 17765.0, 17768.0, 17769.0, 17770.0, 17771.0, 17772.0, 17773.0, 17774.0, 17775.0, 17776.0, 17777.0, 17779.0, 17780.0, 17781.0, 17782.0, 17783.0, 17784.0, 17787.0, 17788.0, 17789.0, 17792.0, 17794.0, 17796.0, 17797.0, 17799.0, 17800.0, 17801.0, 17802.0, 17803.0, 17804.0, 17805.0, 2898.0, 3564.0, 3618.0, 3870.0, 3947.0, 4005.0, 4492.0, 4785.0, 4792.0, 4990.0, 5120.0, 6150.0, 6782.0, 7135.0, 7136.0, 7293.0, 7588.0, 7823.0, 8137.0, 8346.0, 8588.0, 8589.0, 8644.0, 8647.0, 8729.0, 9308.0, 9319.0, 9356.0, 9357.0, 9954.0]\n",
      "  warnings.warn(w)\n"
     ]
    }
   ],
   "source": [
    "preds = gbm0.predict(test)"
   ]
  },
  {
   "cell_type": "code",
   "execution_count": 84,
   "metadata": {},
   "outputs": [
    {
     "data": {
      "text/html": [
       "<table>\n",
       "<thead>\n",
       "<tr><th style=\"text-align: right;\">  predict</th></tr>\n",
       "</thead>\n",
       "<tbody>\n",
       "<tr><td style=\"text-align: right;\">0.0398266</td></tr>\n",
       "<tr><td style=\"text-align: right;\">0.0398266</td></tr>\n",
       "<tr><td style=\"text-align: right;\">0.0398266</td></tr>\n",
       "<tr><td style=\"text-align: right;\">0.0241787</td></tr>\n",
       "<tr><td style=\"text-align: right;\">0.0398266</td></tr>\n",
       "<tr><td style=\"text-align: right;\">0.0283167</td></tr>\n",
       "<tr><td style=\"text-align: right;\">0.0438346</td></tr>\n",
       "<tr><td style=\"text-align: right;\">0.0246382</td></tr>\n",
       "<tr><td style=\"text-align: right;\">0.0246382</td></tr>\n",
       "<tr><td style=\"text-align: right;\">0.0238966</td></tr>\n",
       "</tbody>\n",
       "</table>"
      ]
     },
     "metadata": {},
     "output_type": "display_data"
    },
    {
     "data": {
      "text/plain": []
     },
     "execution_count": 84,
     "metadata": {},
     "output_type": "execute_result"
    }
   ],
   "source": [
    "preds"
   ]
  },
  {
   "cell_type": "code",
   "execution_count": 86,
   "metadata": {},
   "outputs": [
    {
     "data": {
      "text/html": [
       "<table>\n",
       "<thead>\n",
       "<tr><th style=\"text-align: right;\">  predict</th></tr>\n",
       "</thead>\n",
       "<tbody>\n",
       "<tr><td style=\"text-align: right;\">0.0398266</td></tr>\n",
       "<tr><td style=\"text-align: right;\">0.0398266</td></tr>\n",
       "<tr><td style=\"text-align: right;\">0.0398266</td></tr>\n",
       "<tr><td style=\"text-align: right;\">0.0241787</td></tr>\n",
       "<tr><td style=\"text-align: right;\">0.0398266</td></tr>\n",
       "<tr><td style=\"text-align: right;\">0.0283167</td></tr>\n",
       "<tr><td style=\"text-align: right;\">0.0438346</td></tr>\n",
       "<tr><td style=\"text-align: right;\">0.0246382</td></tr>\n",
       "<tr><td style=\"text-align: right;\">0.0246382</td></tr>\n",
       "<tr><td style=\"text-align: right;\">0.0238966</td></tr>\n",
       "</tbody>\n",
       "</table>"
      ]
     },
     "metadata": {},
     "output_type": "display_data"
    },
    {
     "data": {
      "text/plain": []
     },
     "execution_count": 86,
     "metadata": {},
     "output_type": "execute_result"
    }
   ],
   "source": [
    "preds['predict']"
   ]
  },
  {
   "cell_type": "code",
   "execution_count": 88,
   "metadata": {},
   "outputs": [],
   "source": [
    "import pandas as pd"
   ]
  },
  {
   "cell_type": "code",
   "execution_count": 90,
   "metadata": {},
   "outputs": [],
   "source": [
    "submission = pd.concat((h2o.as_list(test['ID']), h2o.as_list(preds)), axis=1, ignore_index=True)\n",
    "submission.columns = ['ID', 'ConversionPayOut']\n",
    "submission = submission.set_index(['ID', 'ConversionPayOut'])\n",
    "submission.to_csv('submission_h2o_gbm.csv')"
   ]
  },
  {
   "cell_type": "code",
   "execution_count": 92,
   "metadata": {},
   "outputs": [
    {
     "name": "stdout",
     "output_type": "stream",
     "text": [
      "Copying file://submission_h2o_gbm.csv [Content-Type=text/csv]...\n",
      "==> NOTE: You are uploading one or more large file(s), which would run\n",
      "significantly faster if you enable parallel composite uploads. This\n",
      "feature can be enabled by editing the\n",
      "\"parallel_composite_upload_threshold\" value in your .boto\n",
      "configuration file. However, note that if you do this large files will\n",
      "be uploaded as `composite objects\n",
      "<https://cloud.google.com/storage/docs/composite-objects>`_,which\n",
      "means that any user who downloads such objects will need to have a\n",
      "compiled crcmod installed (see \"gsutil help crcmod\"). This is because\n",
      "without a compiled crcmod, computing checksums on composite objects is\n",
      "so slow that gsutil disables downloads of composite objects.\n",
      "\n",
      "\\ [1/1 files][705.6 MiB/705.6 MiB] 100% Done                                    \n",
      "Operation completed over 1 objects/705.6 MiB.                                    \n"
     ]
    }
   ],
   "source": [
    "!gsutil -m cp submission_h2o_gbm.csv gs://avclickprediction/"
   ]
  },
  {
   "cell_type": "code",
   "execution_count": 94,
   "metadata": {},
   "outputs": [
    {
     "name": "stdout",
     "output_type": "stream",
     "text": [
      "ID,ConversionPayOut\r\n",
      "63367289,0.0398266008331099\r\n",
      "63367290,0.0398266008331099\r\n",
      "63367291,0.0398266008331099\r\n",
      "63367292,0.02417865560600845\r\n"
     ]
    }
   ],
   "source": [
    "!head -n 5 submission_h2o_gbm.csv"
   ]
  },
  {
   "cell_type": "code",
   "execution_count": 95,
   "metadata": {},
   "outputs": [
    {
     "name": "stdout",
     "output_type": "stream",
     "text": [
      "ID,Country,Carrier,TrafficType,ClickDate,Device,Browser,OS,RefererUrl,UserIp,publisherId,subPublisherId,advertiserCampaignId,Fraud\r\n",
      "63367289,IN,5.0,,2017-08-31 00:00:01,Generic,uc,Android,,101.58.211.15,1479,,16216.0,0.0\r\n",
      "63367290,IN,2.0,M,2017-08-31 00:00:01,Datawind,chrome,Android,,42.107.175.145,3734,,1836.0,0.0\r\n",
      "63367291,IN,1.0,A,2017-08-31 00:00:01,Panasonic,chrome,Android,synctraff.com,106.223.85.251,282.0,,13431.0,0.0\r\n",
      "63367292,BR,-1.0,M,2017-08-31 00:00:01,Generic,android_webkit,Android,,177.35.22.162,1203,,4787.0,0.0\r\n"
     ]
    }
   ],
   "source": [
    "!head -n 5 test.csv"
   ]
  },
  {
   "cell_type": "code",
   "execution_count": 4,
   "metadata": {},
   "outputs": [
    {
     "name": "stdout",
     "output_type": "stream",
     "text": [
      "88916157,0.026864922276943308\r\n",
      "88916158,0.024434301091603317\r\n",
      "88916159,0.0398266008331099\r\n",
      "88916160,0.0398266008331099\r\n",
      "88916161,0.024385130519292638\r\n"
     ]
    }
   ],
   "source": [
    "!tail -n 5 submission_h2o_gbm.csv"
   ]
  },
  {
   "cell_type": "code",
   "execution_count": 5,
   "metadata": {},
   "outputs": [
    {
     "name": "stdout",
     "output_type": "stream",
     "text": [
      "63367212,BD,-1.0,,2017-08-30 23:59:59,Generic,android_webkit,Android,,103.73.224.162,False,,0.0,1306,,6113.0,0.0\r\n",
      "63367213,IN,121.0,A,2017-08-30 23:59:59,Lenovo,chromium,Android,overtraff.com,49.34.99.190,False,,0.0,282.0,,11991.0,0.0\r\n",
      "63367214,VE,-1.0,A,2017-08-30 23:59:59,Niu,chrome,Android,track.cpa.tapgerine.com,186.185.236.137,False,,0.0,1362.0,,13960.0,0.0\r\n",
      "63367215,IN,1.0,M,2017-08-30 23:59:59,Lava,46.0.2490.76,Android,,106.208.117.28,False,,0.0,209,,5697.0,0.0\r\n",
      "63367216,RU,-1.0,M,2017-08-30 23:59:59,Apple,safari,iOS,koolmedia.info,176.124.144.185,False,,0.0,1206,,11830.0,0.0\r\n"
     ]
    }
   ],
   "source": [
    "!tail -n 5 train.csv"
   ]
  },
  {
   "cell_type": "code",
   "execution_count": null,
   "metadata": {},
   "outputs": [],
   "source": []
  }
 ],
 "metadata": {
  "kernelspec": {
   "display_name": "Python 3",
   "language": "python",
   "name": "python3"
  },
  "language_info": {
   "codemirror_mode": {
    "name": "ipython",
    "version": 3
   },
   "file_extension": ".py",
   "mimetype": "text/x-python",
   "name": "python",
   "nbconvert_exporter": "python",
   "pygments_lexer": "ipython3",
   "version": "3.5.2"
  }
 },
 "nbformat": 4,
 "nbformat_minor": 2
}
